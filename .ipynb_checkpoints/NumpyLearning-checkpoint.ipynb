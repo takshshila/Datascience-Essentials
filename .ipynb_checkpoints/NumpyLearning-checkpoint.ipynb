{
 "cells": [
  {
   "cell_type": "markdown",
   "metadata": {},
   "source": [
    "# Numpy Tutorial"
   ]
  },
  {
   "cell_type": "markdown",
   "metadata": {},
   "source": [
    "Benjamin Franklin said:\n",
    "> Early to bed and early to rise, makes a man healthy, wealthy, and wise.   "
   ]
  },
  {
   "cell_type": "code",
   "execution_count": null,
   "metadata": {},
   "outputs": [],
   "source": []
  },
  {
   "cell_type": "markdown",
   "metadata": {},
   "source": [
    "- Learning Slow to learn fast.\n",
    "    - Napolean Bonapart: Dress me slowly, I am in hurry"
   ]
  },
  {
   "cell_type": "code",
   "execution_count": 1,
   "metadata": {},
   "outputs": [
    {
     "name": "stdout",
     "output_type": "stream",
     "text": [
      "takshshila\n"
     ]
    }
   ],
   "source": []
  },
  {
   "cell_type": "markdown",
   "metadata": {},
   "source": [
    "# Beutifully Typeset Mathematics"
   ]
  },
  {
   "cell_type": "code",
   "execution_count": null,
   "metadata": {},
   "outputs": [],
   "source": []
  },
  {
   "cell_type": "markdown",
   "metadata": {},
   "source": [
    "# Create NumPy arrays using Python's \"array like\" data types"
   ]
  },
  {
   "cell_type": "code",
   "execution_count": 1,
   "metadata": {},
   "outputs": [],
   "source": [
    "import numpy as np"
   ]
  },
  {
   "cell_type": "code",
   "execution_count": 2,
   "metadata": {},
   "outputs": [
    {
     "name": "stdout",
     "output_type": "stream",
     "text": [
      "1.18.1\n"
     ]
    }
   ],
   "source": [
    "print(np.__version__)"
   ]
  },
  {
   "cell_type": "code",
   "execution_count": 8,
   "metadata": {},
   "outputs": [
    {
     "data": {
      "text/plain": [
       "array([-17,   4,   0,   9])"
      ]
     },
     "execution_count": 8,
     "metadata": {},
     "output_type": "execute_result"
    }
   ],
   "source": [
    "my_list=[-17, 4, 0,9]\n",
    "my_array_from_list=np.array(my_list)\n",
    "my_array_from_list"
   ]
  },
  {
   "cell_type": "code",
   "execution_count": 9,
   "metadata": {},
   "outputs": [
    {
     "data": {
      "text/plain": [
       "array([-170,   40,    0,   90])"
      ]
     },
     "execution_count": 9,
     "metadata": {},
     "output_type": "execute_result"
    }
   ],
   "source": [
    "my_array_from_list*10"
   ]
  },
  {
   "cell_type": "code",
   "execution_count": 16,
   "metadata": {},
   "outputs": [
    {
     "data": {
      "text/plain": [
       "array([14.  +0.j, -3.54+0.j,  4.  +5.j])"
      ]
     },
     "execution_count": 16,
     "metadata": {},
     "output_type": "execute_result"
    }
   ],
   "source": [
    "my_tuple=(14,-3.54, 4+5j)\n",
    "tuple_array=np.array(my_tuple)\n",
    "tuple_array\n",
    "\n",
    "# every element in the numpy array has to have same type, so elements can be promoted"
   ]
  },
  {
   "cell_type": "code",
   "execution_count": null,
   "metadata": {},
   "outputs": [],
   "source": []
  },
  {
   "cell_type": "markdown",
   "metadata": {},
   "source": [
    "### difference between python and numpy data structure"
   ]
  },
  {
   "cell_type": "code",
   "execution_count": 17,
   "metadata": {},
   "outputs": [
    {
     "data": {
      "text/plain": [
       "(14,\n",
       " -3.54,\n",
       " (4+5j),\n",
       " 14,\n",
       " -3.54,\n",
       " (4+5j),\n",
       " 14,\n",
       " -3.54,\n",
       " (4+5j),\n",
       " 14,\n",
       " -3.54,\n",
       " (4+5j),\n",
       " 14,\n",
       " -3.54,\n",
       " (4+5j),\n",
       " 14,\n",
       " -3.54,\n",
       " (4+5j))"
      ]
     },
     "execution_count": 17,
     "metadata": {},
     "output_type": "execute_result"
    }
   ],
   "source": [
    "my_tuple*6"
   ]
  },
  {
   "cell_type": "code",
   "execution_count": 18,
   "metadata": {},
   "outputs": [
    {
     "data": {
      "text/plain": [
       "array([ 84.   +0.j, -21.24 +0.j,  24.  +30.j])"
      ]
     },
     "execution_count": 18,
     "metadata": {},
     "output_type": "execute_result"
    }
   ],
   "source": [
    "tuple_array*6"
   ]
  },
  {
   "cell_type": "code",
   "execution_count": null,
   "metadata": {},
   "outputs": [],
   "source": []
  },
  {
   "cell_type": "markdown",
   "metadata": {},
   "source": [
    "# Intrinsic creation Using Numpy Methods"
   ]
  },
  {
   "cell_type": "code",
   "execution_count": 19,
   "metadata": {},
   "outputs": [],
   "source": [
    "import numpy as np"
   ]
  },
  {
   "cell_type": "code",
   "execution_count": 20,
   "metadata": {},
   "outputs": [
    {
     "data": {
      "text/plain": [
       "array([0, 1, 2, 3, 4, 5, 6])"
      ]
     },
     "execution_count": 20,
     "metadata": {},
     "output_type": "execute_result"
    }
   ],
   "source": [
    "np.arange(7)"
   ]
  },
  {
   "cell_type": "code",
   "execution_count": 24,
   "metadata": {},
   "outputs": [
    {
     "data": {
      "text/plain": [
       "array([ 1,  2,  3,  4,  5,  6,  7,  8,  9, 10, 11, 12, 13])"
      ]
     },
     "execution_count": 24,
     "metadata": {},
     "output_type": "execute_result"
    }
   ],
   "source": [
    "np.arange(10,23)-10+1"
   ]
  },
  {
   "cell_type": "code",
   "execution_count": 25,
   "metadata": {},
   "outputs": [
    {
     "data": {
      "text/plain": [
       "13"
      ]
     },
     "execution_count": 25,
     "metadata": {},
     "output_type": "execute_result"
    }
   ],
   "source": [
    "len(np.arange(10,23))"
   ]
  },
  {
   "cell_type": "code",
   "execution_count": 26,
   "metadata": {},
   "outputs": [
    {
     "data": {
      "text/plain": [
       "13"
      ]
     },
     "execution_count": 26,
     "metadata": {},
     "output_type": "execute_result"
    }
   ],
   "source": [
    "my_range_array=np.arange(10,23)\n",
    "my_range_array.size"
   ]
  },
  {
   "cell_type": "code",
   "execution_count": 28,
   "metadata": {},
   "outputs": [
    {
     "data": {
      "text/plain": [
       "array([10, 15, 20, 25])"
      ]
     },
     "execution_count": 28,
     "metadata": {},
     "output_type": "execute_result"
    }
   ],
   "source": [
    "np.arange(10,26,5)"
   ]
  },
  {
   "cell_type": "code",
   "execution_count": 29,
   "metadata": {},
   "outputs": [
    {
     "data": {
      "text/plain": [
       "array([ 0,  5, 10, 15, 20, 25])"
      ]
     },
     "execution_count": 29,
     "metadata": {},
     "output_type": "execute_result"
    }
   ],
   "source": [
    "np.arange(26,step=5)"
   ]
  },
  {
   "cell_type": "code",
   "execution_count": null,
   "metadata": {},
   "outputs": [],
   "source": []
  },
  {
   "cell_type": "markdown",
   "metadata": {},
   "source": [
    "# linespace, zeros, ones, datatypes"
   ]
  },
  {
   "cell_type": "code",
   "execution_count": 30,
   "metadata": {},
   "outputs": [],
   "source": [
    "import numpy as np"
   ]
  },
  {
   "cell_type": "code",
   "execution_count": 34,
   "metadata": {},
   "outputs": [
    {
     "data": {
      "text/plain": [
       "array([ 5.  ,  6.25,  7.5 ,  8.75, 10.  , 11.25, 12.5 , 13.75, 15.  ])"
      ]
     },
     "execution_count": 34,
     "metadata": {},
     "output_type": "execute_result"
    }
   ],
   "source": [
    "np.linspace(5,15,9)"
   ]
  },
  {
   "cell_type": "code",
   "execution_count": 37,
   "metadata": {},
   "outputs": [
    {
     "data": {
      "text/plain": [
       "1.25"
      ]
     },
     "execution_count": 37,
     "metadata": {},
     "output_type": "execute_result"
    }
   ],
   "source": [
    "my_linespace=np.linspace(5,15,9,retstep=True)\n",
    "my_linespace\n",
    "step=my_linespace[1]\n",
    "step"
   ]
  },
  {
   "cell_type": "markdown",
   "metadata": {},
   "source": [
    "### zeros() "
   ]
  },
  {
   "cell_type": "code",
   "execution_count": 38,
   "metadata": {},
   "outputs": [
    {
     "data": {
      "text/plain": [
       "array([0., 0., 0., 0., 0.])"
      ]
     },
     "execution_count": 38,
     "metadata": {},
     "output_type": "execute_result"
    }
   ],
   "source": [
    "np.zeros(5)"
   ]
  },
  {
   "cell_type": "code",
   "execution_count": null,
   "metadata": {},
   "outputs": [],
   "source": []
  },
  {
   "cell_type": "markdown",
   "metadata": {},
   "source": [
    "### ones()"
   ]
  },
  {
   "cell_type": "code",
   "execution_count": 39,
   "metadata": {},
   "outputs": [
    {
     "data": {
      "text/plain": [
       "array([1., 1., 1., 1., 1.])"
      ]
     },
     "execution_count": 39,
     "metadata": {},
     "output_type": "execute_result"
    }
   ],
   "source": [
    "np.ones(5)"
   ]
  },
  {
   "cell_type": "code",
   "execution_count": 41,
   "metadata": {},
   "outputs": [
    {
     "data": {
      "text/plain": [
       "array([[0., 0., 0., 0., 0.],\n",
       "       [0., 0., 0., 0., 0.],\n",
       "       [0., 0., 0., 0., 0.],\n",
       "       [0., 0., 0., 0., 0.]])"
      ]
     },
     "execution_count": 41,
     "metadata": {},
     "output_type": "execute_result"
    }
   ],
   "source": [
    "np.zeros((4,5))"
   ]
  },
  {
   "cell_type": "code",
   "execution_count": 42,
   "metadata": {},
   "outputs": [
    {
     "data": {
      "text/plain": [
       "array([[[0., 0., 0.],\n",
       "        [0., 0., 0.],\n",
       "        [0., 0., 0.],\n",
       "        [0., 0., 0.],\n",
       "        [0., 0., 0.]],\n",
       "\n",
       "       [[0., 0., 0.],\n",
       "        [0., 0., 0.],\n",
       "        [0., 0., 0.],\n",
       "        [0., 0., 0.],\n",
       "        [0., 0., 0.]],\n",
       "\n",
       "       [[0., 0., 0.],\n",
       "        [0., 0., 0.],\n",
       "        [0., 0., 0.],\n",
       "        [0., 0., 0.],\n",
       "        [0., 0., 0.]],\n",
       "\n",
       "       [[0., 0., 0.],\n",
       "        [0., 0., 0.],\n",
       "        [0., 0., 0.],\n",
       "        [0., 0., 0.],\n",
       "        [0., 0., 0.]]])"
      ]
     },
     "execution_count": 42,
     "metadata": {},
     "output_type": "execute_result"
    }
   ],
   "source": [
    "np.zeros((4,5,3))"
   ]
  },
  {
   "cell_type": "markdown",
   "metadata": {},
   "source": [
    "### data types"
   ]
  },
  {
   "cell_type": "code",
   "execution_count": 43,
   "metadata": {},
   "outputs": [
    {
     "data": {
      "text/plain": [
       "array([0, 0, 0, 0, 0, 0, 0, 0, 0, 0, 0])"
      ]
     },
     "execution_count": 43,
     "metadata": {},
     "output_type": "execute_result"
    }
   ],
   "source": [
    "np.zeros(11, dtype=\"int64\")"
   ]
  },
  {
   "cell_type": "code",
   "execution_count": 44,
   "metadata": {},
   "outputs": [
    {
     "data": {
      "text/plain": [
       "array([0., 0., 0., 0., 0., 0., 0., 0., 0., 0., 0.])"
      ]
     },
     "execution_count": 44,
     "metadata": {},
     "output_type": "execute_result"
    }
   ],
   "source": [
    "np.zeros(11)"
   ]
  },
  {
   "cell_type": "code",
   "execution_count": null,
   "metadata": {},
   "outputs": [],
   "source": []
  },
  {
   "cell_type": "code",
   "execution_count": null,
   "metadata": {},
   "outputs": [],
   "source": []
  },
  {
   "cell_type": "markdown",
   "metadata": {},
   "source": [
    "# Index, Slice, iterate "
   ]
  },
  {
   "cell_type": "markdown",
   "metadata": {},
   "source": [
    "### Slice Array "
   ]
  },
  {
   "cell_type": "code",
   "execution_count": 1,
   "metadata": {},
   "outputs": [],
   "source": [
    "import numpy as np"
   ]
  },
  {
   "cell_type": "code",
   "execution_count": 26,
   "metadata": {},
   "outputs": [
    {
     "data": {
      "text/plain": [
       "array([ 8,  9, 16, 20, 28, 11])"
      ]
     },
     "execution_count": 26,
     "metadata": {},
     "output_type": "execute_result"
    }
   ],
   "source": [
    "my_vector=np.array([8,9,16,20,28,11])\n",
    "my_vector"
   ]
  },
  {
   "cell_type": "code",
   "execution_count": 4,
   "metadata": {},
   "outputs": [
    {
     "data": {
      "text/plain": [
       "array([8, 9])"
      ]
     },
     "execution_count": 4,
     "metadata": {},
     "output_type": "execute_result"
    }
   ],
   "source": [
    "my_vector[0:2]"
   ]
  },
  {
   "cell_type": "code",
   "execution_count": 5,
   "metadata": {},
   "outputs": [
    {
     "data": {
      "text/plain": [
       "20"
      ]
     },
     "execution_count": 5,
     "metadata": {},
     "output_type": "execute_result"
    }
   ],
   "source": [
    "my_vector[-3]"
   ]
  },
  {
   "cell_type": "code",
   "execution_count": 37,
   "metadata": {},
   "outputs": [
    {
     "data": {
      "text/plain": [
       "array([11, 28, 20, 16,  9,  8])"
      ]
     },
     "execution_count": 37,
     "metadata": {},
     "output_type": "execute_result"
    }
   ],
   "source": [
    "my_vector[::-1]"
   ]
  },
  {
   "cell_type": "code",
   "execution_count": 35,
   "metadata": {},
   "outputs": [
    {
     "data": {
      "text/plain": [
       "array([ 8,  9, 16, 20, 28, 11])"
      ]
     },
     "execution_count": 35,
     "metadata": {},
     "output_type": "execute_result"
    }
   ],
   "source": [
    "my_vector"
   ]
  },
  {
   "cell_type": "code",
   "execution_count": 43,
   "metadata": {},
   "outputs": [
    {
     "data": {
      "text/plain": [
       "4"
      ]
     },
     "execution_count": 43,
     "metadata": {},
     "output_type": "execute_result"
    }
   ],
   "source": [
    "304%6"
   ]
  },
  {
   "cell_type": "code",
   "execution_count": 42,
   "metadata": {},
   "outputs": [
    {
     "data": {
      "text/plain": [
       "28"
      ]
     },
     "execution_count": 42,
     "metadata": {},
     "output_type": "execute_result"
    }
   ],
   "source": [
    "my_vector[304%my_vector.size]"
   ]
  },
  {
   "cell_type": "code",
   "execution_count": 41,
   "metadata": {},
   "outputs": [
    {
     "data": {
      "text/plain": [
       "6"
      ]
     },
     "execution_count": 41,
     "metadata": {},
     "output_type": "execute_result"
    }
   ],
   "source": [
    "my_vector.size"
   ]
  },
  {
   "cell_type": "markdown",
   "metadata": {},
   "source": [
    "### Two Dimentional Array"
   ]
  },
  {
   "cell_type": "code",
   "execution_count": 45,
   "metadata": {},
   "outputs": [
    {
     "data": {
      "text/plain": [
       "array([ 0,  1,  2,  3,  4,  5,  6,  7,  8,  9, 10, 11, 12, 13, 14, 15, 16,\n",
       "       17, 18, 19, 20, 21, 22, 23, 24, 25, 26, 27, 28, 29, 30, 31, 32, 33,\n",
       "       34])"
      ]
     },
     "execution_count": 45,
     "metadata": {},
     "output_type": "execute_result"
    }
   ],
   "source": [
    "my_array=np.arange(35)\n",
    "my_array"
   ]
  },
  {
   "cell_type": "code",
   "execution_count": 47,
   "metadata": {},
   "outputs": [
    {
     "data": {
      "text/plain": [
       "array([[ 0,  1,  2,  3,  4],\n",
       "       [ 5,  6,  7,  8,  9],\n",
       "       [10, 11, 12, 13, 14],\n",
       "       [15, 16, 17, 18, 19],\n",
       "       [20, 21, 22, 23, 24],\n",
       "       [25, 26, 27, 28, 29],\n",
       "       [30, 31, 32, 33, 34]])"
      ]
     },
     "execution_count": 47,
     "metadata": {},
     "output_type": "execute_result"
    }
   ],
   "source": [
    "my_array.shape=(7,5)\n",
    "my_array"
   ]
  },
  {
   "cell_type": "code",
   "execution_count": 56,
   "metadata": {},
   "outputs": [
    {
     "data": {
      "text/plain": [
       "array([10, 11, 12, 13, 14])"
      ]
     },
     "execution_count": 56,
     "metadata": {},
     "output_type": "execute_result"
    }
   ],
   "source": [
    "my_array[2]\n"
   ]
  },
  {
   "cell_type": "code",
   "execution_count": 57,
   "metadata": {},
   "outputs": [
    {
     "data": {
      "text/plain": [
       "array([25, 26, 27, 28, 29])"
      ]
     },
     "execution_count": 57,
     "metadata": {},
     "output_type": "execute_result"
    }
   ],
   "source": [
    "my_array[-2]"
   ]
  },
  {
   "cell_type": "code",
   "execution_count": 54,
   "metadata": {},
   "outputs": [
    {
     "data": {
      "text/plain": [
       "array([ 2,  7, 12, 17, 22, 27, 32])"
      ]
     },
     "execution_count": 54,
     "metadata": {},
     "output_type": "execute_result"
    }
   ],
   "source": [
    "my_array.T[2]"
   ]
  },
  {
   "cell_type": "code",
   "execution_count": 60,
   "metadata": {},
   "outputs": [
    {
     "data": {
      "text/plain": [
       "array([[  30,   80,  130,  180,  230,  280,  330],\n",
       "       [  80,  255,  430,  605,  780,  955, 1130],\n",
       "       [ 130,  430,  730, 1030, 1330, 1630, 1930],\n",
       "       [ 180,  605, 1030, 1455, 1880, 2305, 2730],\n",
       "       [ 230,  780, 1330, 1880, 2430, 2980, 3530],\n",
       "       [ 280,  955, 1630, 2305, 2980, 3655, 4330],\n",
       "       [ 330, 1130, 1930, 2730, 3530, 4330, 5130]])"
      ]
     },
     "execution_count": 60,
     "metadata": {},
     "output_type": "execute_result"
    }
   ],
   "source": [
    "data=np.dot(my_array, my_array.T)\n",
    "data"
   ]
  },
  {
   "cell_type": "code",
   "execution_count": 62,
   "metadata": {},
   "outputs": [
    {
     "data": {
      "text/plain": [
       "1930"
      ]
     },
     "execution_count": 62,
     "metadata": {},
     "output_type": "execute_result"
    }
   ],
   "source": [
    "row=2\n",
    "column=6\n",
    "data[row, column]"
   ]
  },
  {
   "cell_type": "markdown",
   "metadata": {},
   "source": [
    "### Three Dimentional Arrays"
   ]
  },
  {
   "cell_type": "code",
   "execution_count": 64,
   "metadata": {},
   "outputs": [
    {
     "data": {
      "text/plain": [
       "array([[[ 0,  1,  2,  3,  4],\n",
       "        [ 5,  6,  7,  8,  9],\n",
       "        [10, 11, 12, 13, 14],\n",
       "        [15, 16, 17, 18, 19],\n",
       "        [20, 21, 22, 23, 24],\n",
       "        [25, 26, 27, 28, 29],\n",
       "        [30, 31, 32, 33, 34]],\n",
       "\n",
       "       [[35, 36, 37, 38, 39],\n",
       "        [40, 41, 42, 43, 44],\n",
       "        [45, 46, 47, 48, 49],\n",
       "        [50, 51, 52, 53, 54],\n",
       "        [55, 56, 57, 58, 59],\n",
       "        [60, 61, 62, 63, 64],\n",
       "        [65, 66, 67, 68, 69]]])"
      ]
     },
     "execution_count": 64,
     "metadata": {},
     "output_type": "execute_result"
    }
   ],
   "source": [
    "my_3D_array=np.arange(70)\n",
    "my_3D_array.shape=(2,7,5)\n",
    "my_3D_array"
   ]
  },
  {
   "cell_type": "code",
   "execution_count": 68,
   "metadata": {},
   "outputs": [
    {
     "data": {
      "text/plain": [
       "64"
      ]
     },
     "execution_count": 68,
     "metadata": {},
     "output_type": "execute_result"
    }
   ],
   "source": [
    "row=1\n",
    "column =5\n",
    "height=4\n",
    "\n",
    "my_3D_array[row, column, height]"
   ]
  },
  {
   "cell_type": "markdown",
   "metadata": {},
   "source": [
    "# Boolean Musk Array"
   ]
  },
  {
   "cell_type": "code",
   "execution_count": 2,
   "metadata": {},
   "outputs": [],
   "source": [
    "import numpy as np"
   ]
  },
  {
   "cell_type": "code",
   "execution_count": 3,
   "metadata": {},
   "outputs": [
    {
     "data": {
      "text/plain": [
       "array([-17,  -4,   0,   2,  21,  37, 105])"
      ]
     },
     "execution_count": 3,
     "metadata": {},
     "output_type": "execute_result"
    }
   ],
   "source": [
    "my_vector = np.array([-17, -4, 0, 2, 21, 37, 105])\n",
    "my_vector"
   ]
  },
  {
   "cell_type": "code",
   "execution_count": 4,
   "metadata": {},
   "outputs": [
    {
     "data": {
      "text/plain": [
       "array([False, False,  True, False,  True, False,  True])"
      ]
     },
     "execution_count": 4,
     "metadata": {},
     "output_type": "execute_result"
    }
   ],
   "source": [
    "zero_mode_mask=0==(my_vector%7)\n",
    "zero_mode_mask"
   ]
  },
  {
   "cell_type": "code",
   "execution_count": 5,
   "metadata": {},
   "outputs": [
    {
     "data": {
      "text/plain": [
       "array([  0,  21, 105])"
      ]
     },
     "execution_count": 5,
     "metadata": {},
     "output_type": "execute_result"
    }
   ],
   "source": [
    "sub_array=my_vector[zero_mode_mask]\n",
    "sub_array"
   ]
  },
  {
   "cell_type": "code",
   "execution_count": 6,
   "metadata": {},
   "outputs": [
    {
     "data": {
      "text/plain": [
       "array([ 21, 105])"
      ]
     },
     "execution_count": 6,
     "metadata": {},
     "output_type": "execute_result"
    }
   ],
   "source": [
    "sub_array[sub_array>0]"
   ]
  },
  {
   "cell_type": "code",
   "execution_count": 7,
   "metadata": {},
   "outputs": [
    {
     "data": {
      "text/plain": [
       "array([  0,  21, 105])"
      ]
     },
     "execution_count": 7,
     "metadata": {},
     "output_type": "execute_result"
    }
   ],
   "source": [
    "sub_array"
   ]
  },
  {
   "cell_type": "markdown",
   "metadata": {},
   "source": [
    "### Numpy Logical Operator "
   ]
  },
  {
   "cell_type": "code",
   "execution_count": 8,
   "metadata": {},
   "outputs": [
    {
     "data": {
      "text/plain": [
       "array([False, False,  True, False,  True, False,  True])"
      ]
     },
     "execution_count": 8,
     "metadata": {},
     "output_type": "execute_result"
    }
   ],
   "source": [
    "mode_test = 0==(my_vector%7)\n",
    "mode_test"
   ]
  },
  {
   "cell_type": "code",
   "execution_count": 9,
   "metadata": {},
   "outputs": [
    {
     "data": {
      "text/plain": [
       "array([False, False, False,  True,  True,  True,  True])"
      ]
     },
     "execution_count": 9,
     "metadata": {},
     "output_type": "execute_result"
    }
   ],
   "source": [
    "positive_test= my_vector>0\n",
    "positive_test"
   ]
  },
  {
   "cell_type": "code",
   "execution_count": 10,
   "metadata": {},
   "outputs": [
    {
     "data": {
      "text/plain": [
       "array([False, False, False, False,  True, False,  True])"
      ]
     },
     "execution_count": 10,
     "metadata": {},
     "output_type": "execute_result"
    }
   ],
   "source": [
    "combined_test= np.logical_and(mode_test, positive_test)\n",
    "combined_test"
   ]
  },
  {
   "cell_type": "code",
   "execution_count": 11,
   "metadata": {},
   "outputs": [
    {
     "data": {
      "text/plain": [
       "array([ 21, 105])"
      ]
     },
     "execution_count": 11,
     "metadata": {},
     "output_type": "execute_result"
    }
   ],
   "source": [
    "my_vector[combined_test]"
   ]
  },
  {
   "cell_type": "markdown",
   "metadata": {},
   "source": [
    "# Broadcasting"
   ]
  },
  {
   "cell_type": "code",
   "execution_count": 55,
   "metadata": {},
   "outputs": [
    {
     "data": {
      "text/plain": [
       "array([[[ 0,  1,  2,  3,  4],\n",
       "        [ 5,  6,  7,  8,  9],\n",
       "        [10, 11, 12, 13, 14],\n",
       "        [15, 16, 17, 18, 19],\n",
       "        [20, 21, 22, 23, 24],\n",
       "        [25, 26, 27, 28, 29],\n",
       "        [30, 31, 32, 33, 34]],\n",
       "\n",
       "       [[35, 36, 37, 38, 39],\n",
       "        [40, 41, 42, 43, 44],\n",
       "        [45, 46, 47, 48, 49],\n",
       "        [50, 51, 52, 53, 54],\n",
       "        [55, 56, 57, 58, 59],\n",
       "        [60, 61, 62, 63, 64],\n",
       "        [65, 66, 67, 68, 69]]])"
      ]
     },
     "execution_count": 55,
     "metadata": {},
     "output_type": "execute_result"
    }
   ],
   "source": [
    "my_3D_array = np.arange(70)\n",
    "my_3D_array.shape = (2,7,5)\n",
    "my_3D_array"
   ]
  },
  {
   "cell_type": "code",
   "execution_count": 13,
   "metadata": {},
   "outputs": [
    {
     "data": {
      "text/plain": [
       "(2, 7, 5)"
      ]
     },
     "execution_count": 13,
     "metadata": {},
     "output_type": "execute_result"
    }
   ],
   "source": [
    "#shape\n",
    "my_3D_array.shape"
   ]
  },
  {
   "cell_type": "code",
   "execution_count": 14,
   "metadata": {},
   "outputs": [
    {
     "data": {
      "text/plain": [
       "3"
      ]
     },
     "execution_count": 14,
     "metadata": {},
     "output_type": "execute_result"
    }
   ],
   "source": [
    "# number of dimension\n",
    "my_3D_array.ndim\n"
   ]
  },
  {
   "cell_type": "code",
   "execution_count": 15,
   "metadata": {},
   "outputs": [
    {
     "data": {
      "text/plain": [
       "70"
      ]
     },
     "execution_count": 15,
     "metadata": {},
     "output_type": "execute_result"
    }
   ],
   "source": [
    "#size, number of element\n",
    "my_3D_array.size"
   ]
  },
  {
   "cell_type": "code",
   "execution_count": 16,
   "metadata": {},
   "outputs": [
    {
     "data": {
      "text/plain": [
       "dtype('int64')"
      ]
     },
     "execution_count": 16,
     "metadata": {},
     "output_type": "execute_result"
    }
   ],
   "source": [
    "# data type\n",
    "my_3D_array.dtype"
   ]
  },
  {
   "cell_type": "code",
   "execution_count": 17,
   "metadata": {},
   "outputs": [
    {
     "data": {
      "text/plain": [
       "array([[[ -2,   3,   8,  13,  18],\n",
       "        [ 23,  28,  33,  38,  43],\n",
       "        [ 48,  53,  58,  63,  68],\n",
       "        [ 73,  78,  83,  88,  93],\n",
       "        [ 98, 103, 108, 113, 118],\n",
       "        [123, 128, 133, 138, 143],\n",
       "        [148, 153, 158, 163, 168]],\n",
       "\n",
       "       [[173, 178, 183, 188, 193],\n",
       "        [198, 203, 208, 213, 218],\n",
       "        [223, 228, 233, 238, 243],\n",
       "        [248, 253, 258, 263, 268],\n",
       "        [273, 278, 283, 288, 293],\n",
       "        [298, 303, 308, 313, 318],\n",
       "        [323, 328, 333, 338, 343]]])"
      ]
     },
     "execution_count": 17,
     "metadata": {},
     "output_type": "execute_result"
    }
   ],
   "source": [
    "5*my_3D_array-2"
   ]
  },
  {
   "cell_type": "code",
   "execution_count": 18,
   "metadata": {},
   "outputs": [],
   "source": [
    "left_mat=np.arange(6).reshape((2,3))\n",
    "right_mat=np.arange(15).reshape((3,5))"
   ]
  },
  {
   "cell_type": "code",
   "execution_count": 19,
   "metadata": {},
   "outputs": [
    {
     "ename": "ValueError",
     "evalue": "shapes (2,3) and (5,3) not aligned: 3 (dim 1) != 5 (dim 0)",
     "output_type": "error",
     "traceback": [
      "\u001b[0;31m---------------------------------------------------------------------------\u001b[0m",
      "\u001b[0;31mValueError\u001b[0m                                Traceback (most recent call last)",
      "\u001b[0;32m<ipython-input-19-2fd2ab783eeb>\u001b[0m in \u001b[0;36m<module>\u001b[0;34m\u001b[0m\n\u001b[0;32m----> 1\u001b[0;31m \u001b[0mnp\u001b[0m\u001b[0;34m.\u001b[0m\u001b[0minner\u001b[0m\u001b[0;34m(\u001b[0m\u001b[0mleft_mat\u001b[0m\u001b[0;34m,\u001b[0m \u001b[0mright_mat\u001b[0m\u001b[0;34m)\u001b[0m\u001b[0;34m\u001b[0m\u001b[0;34m\u001b[0m\u001b[0m\n\u001b[0m",
      "\u001b[0;32m<__array_function__ internals>\u001b[0m in \u001b[0;36minner\u001b[0;34m(*args, **kwargs)\u001b[0m\n",
      "\u001b[0;31mValueError\u001b[0m: shapes (2,3) and (5,3) not aligned: 3 (dim 1) != 5 (dim 0)"
     ]
    }
   ],
   "source": [
    "np.inner(left_mat, right_mat)"
   ]
  },
  {
   "cell_type": "code",
   "execution_count": 20,
   "metadata": {},
   "outputs": [
    {
     "data": {
      "text/plain": [
       "array([[ 25,  28,  31,  34,  37],\n",
       "       [ 70,  82,  94, 106, 118]])"
      ]
     },
     "execution_count": 20,
     "metadata": {},
     "output_type": "execute_result"
    }
   ],
   "source": [
    "np.dot(left_mat, right_mat)"
   ]
  },
  {
   "cell_type": "markdown",
   "metadata": {},
   "source": [
    "### operation along the axes"
   ]
  },
  {
   "cell_type": "code",
   "execution_count": 21,
   "metadata": {},
   "outputs": [
    {
     "data": {
      "text/plain": [
       "array([[[ 0,  1,  2,  3,  4],\n",
       "        [ 5,  6,  7,  8,  9],\n",
       "        [10, 11, 12, 13, 14],\n",
       "        [15, 16, 17, 18, 19],\n",
       "        [20, 21, 22, 23, 24],\n",
       "        [25, 26, 27, 28, 29],\n",
       "        [30, 31, 32, 33, 34]],\n",
       "\n",
       "       [[35, 36, 37, 38, 39],\n",
       "        [40, 41, 42, 43, 44],\n",
       "        [45, 46, 47, 48, 49],\n",
       "        [50, 51, 52, 53, 54],\n",
       "        [55, 56, 57, 58, 59],\n",
       "        [60, 61, 62, 63, 64],\n",
       "        [65, 66, 67, 68, 69]]])"
      ]
     },
     "execution_count": 21,
     "metadata": {},
     "output_type": "execute_result"
    }
   ],
   "source": [
    "my_3D_array"
   ]
  },
  {
   "cell_type": "code",
   "execution_count": 22,
   "metadata": {},
   "outputs": [
    {
     "data": {
      "text/plain": [
       "(2, 7, 5)"
      ]
     },
     "execution_count": 22,
     "metadata": {},
     "output_type": "execute_result"
    }
   ],
   "source": [
    "my_3D_array.shape"
   ]
  },
  {
   "cell_type": "code",
   "execution_count": 23,
   "metadata": {},
   "outputs": [
    {
     "data": {
      "text/plain": [
       "2415"
      ]
     },
     "execution_count": 23,
     "metadata": {},
     "output_type": "execute_result"
    }
   ],
   "source": [
    "my_3D_array.sum()"
   ]
  },
  {
   "cell_type": "code",
   "execution_count": 27,
   "metadata": {},
   "outputs": [
    {
     "data": {
      "text/plain": [
       "array([[ 35,  37,  39,  41,  43],\n",
       "       [ 45,  47,  49,  51,  53],\n",
       "       [ 55,  57,  59,  61,  63],\n",
       "       [ 65,  67,  69,  71,  73],\n",
       "       [ 75,  77,  79,  81,  83],\n",
       "       [ 85,  87,  89,  91,  93],\n",
       "       [ 95,  97,  99, 101, 103]])"
      ]
     },
     "execution_count": 27,
     "metadata": {},
     "output_type": "execute_result"
    }
   ],
   "source": [
    "my_3D_array.sum(axis=0)# result will exclude 1 shape parameter"
   ]
  },
  {
   "cell_type": "code",
   "execution_count": 26,
   "metadata": {},
   "outputs": [
    {
     "data": {
      "text/plain": [
       "array([[105, 112, 119, 126, 133],\n",
       "       [350, 357, 364, 371, 378]])"
      ]
     },
     "execution_count": 26,
     "metadata": {},
     "output_type": "execute_result"
    }
   ],
   "source": [
    "my_3D_array.sum(axis=1)"
   ]
  },
  {
   "cell_type": "code",
   "execution_count": 29,
   "metadata": {},
   "outputs": [
    {
     "data": {
      "text/plain": [
       "array([[3, 3, 3, 3, 3],\n",
       "       [3, 3, 3, 3, 3],\n",
       "       [3, 3, 3, 3, 3],\n",
       "       [3, 3, 3, 3, 3],\n",
       "       [3, 3, 3, 3, 3],\n",
       "       [3, 3, 3, 3, 3],\n",
       "       [3, 3, 3, 3, 3]])"
      ]
     },
     "execution_count": 29,
     "metadata": {},
     "output_type": "execute_result"
    }
   ],
   "source": [
    "my_2D_array=np.ones(35, dtype=\"int_\").reshape(7,5)*3\n",
    "my_2D_array\n"
   ]
  },
  {
   "cell_type": "code",
   "execution_count": 32,
   "metadata": {},
   "outputs": [
    {
     "data": {
      "text/plain": [
       "array([[0.89846502, 0.89774539, 0.10856764, 0.50422326, 0.93147706],\n",
       "       [0.9888173 , 0.03994309, 0.51121037, 0.80609055, 0.40855802],\n",
       "       [0.54396565, 0.77098607, 0.85857967, 0.29959563, 0.87628389],\n",
       "       [0.97820405, 0.2840156 , 0.27215535, 0.84739531, 0.05921239],\n",
       "       [0.68244326, 0.48953084, 0.10338572, 0.26645253, 0.80007558],\n",
       "       [0.14600203, 0.95845467, 0.21862916, 0.84542674, 0.11478814],\n",
       "       [0.42072921, 0.20137559, 0.43029202, 0.95834581, 0.62708432]])"
      ]
     },
     "execution_count": 32,
     "metadata": {},
     "output_type": "execute_result"
    }
   ],
   "source": [
    "my_random_2D_array=np.random.random((7,5))\n",
    "my_random_2D_array"
   ]
  },
  {
   "cell_type": "code",
   "execution_count": 33,
   "metadata": {},
   "outputs": [
    {
     "data": {
      "text/plain": [
       "array([[[ 0.    ,  0.8977,  0.2171,  1.5127,  3.7259],\n",
       "        [ 4.9441,  0.2397,  3.5785,  6.4487,  3.677 ],\n",
       "        [ 5.4397,  8.4808, 10.303 ,  3.8947, 12.268 ],\n",
       "        [14.6731,  4.5442,  4.6266, 15.2531,  1.125 ],\n",
       "        [13.6489, 10.2801,  2.2745,  6.1284, 19.2018],\n",
       "        [ 3.6501, 24.9198,  5.903 , 23.6719,  3.3289],\n",
       "        [12.6219,  6.2426, 13.7693, 31.6254, 21.3209]],\n",
       "\n",
       "       [[31.4463, 32.3188,  4.017 , 19.1605, 36.3276],\n",
       "        [39.5527,  1.6377, 21.4708, 34.6619, 17.9766],\n",
       "        [24.4785, 35.4654, 40.3532, 14.3806, 42.9379],\n",
       "        [48.9102, 14.4848, 14.1521, 44.912 ,  3.1975],\n",
       "        [37.5344, 27.4137,  5.893 , 15.4542, 47.2045],\n",
       "        [ 8.7601, 58.4657, 13.555 , 53.2619,  7.3464],\n",
       "        [27.3474, 13.2908, 28.8296, 65.1675, 43.2688]]])"
      ]
     },
     "execution_count": 33,
     "metadata": {},
     "output_type": "execute_result"
    }
   ],
   "source": [
    "np.set_printoptions(precision=4)\n",
    "my_3D_array*my_random_2D_array\n",
    "\n",
    "# no error means numpy is internally compatible"
   ]
  },
  {
   "cell_type": "code",
   "execution_count": 34,
   "metadata": {},
   "outputs": [
    {
     "data": {
      "text/plain": [
       "array([-1,  7, 14, 21, 28])"
      ]
     },
     "execution_count": 34,
     "metadata": {},
     "output_type": "execute_result"
    }
   ],
   "source": [
    "my_vector=np.arange(5)*7\n",
    "my_vector[0]=-1\n",
    "my_vector\n"
   ]
  },
  {
   "cell_type": "code",
   "execution_count": 35,
   "metadata": {},
   "outputs": [
    {
     "data": {
      "text/plain": [
       "array([[[ -0.    ,   0.1429,   0.1429,   0.1429,   0.1429],\n",
       "        [ -5.    ,   0.8571,   0.5   ,   0.381 ,   0.3214],\n",
       "        [-10.    ,   1.5714,   0.8571,   0.619 ,   0.5   ],\n",
       "        [-15.    ,   2.2857,   1.2143,   0.8571,   0.6786],\n",
       "        [-20.    ,   3.    ,   1.5714,   1.0952,   0.8571],\n",
       "        [-25.    ,   3.7143,   1.9286,   1.3333,   1.0357],\n",
       "        [-30.    ,   4.4286,   2.2857,   1.5714,   1.2143]],\n",
       "\n",
       "       [[-35.    ,   5.1429,   2.6429,   1.8095,   1.3929],\n",
       "        [-40.    ,   5.8571,   3.    ,   2.0476,   1.5714],\n",
       "        [-45.    ,   6.5714,   3.3571,   2.2857,   1.75  ],\n",
       "        [-50.    ,   7.2857,   3.7143,   2.5238,   1.9286],\n",
       "        [-55.    ,   8.    ,   4.0714,   2.7619,   2.1071],\n",
       "        [-60.    ,   8.7143,   4.4286,   3.    ,   2.2857],\n",
       "        [-65.    ,   9.4286,   4.7857,   3.2381,   2.4643]]])"
      ]
     },
     "execution_count": 35,
     "metadata": {},
     "output_type": "execute_result"
    }
   ],
   "source": [
    "my_3D_array/my_vector\n"
   ]
  },
  {
   "cell_type": "code",
   "execution_count": 36,
   "metadata": {},
   "outputs": [
    {
     "data": {
      "text/plain": [
       "array([[[ 0,  1,  2,  3,  4],\n",
       "        [ 0,  6,  7,  8,  9],\n",
       "        [ 0,  4, 12, 13, 14],\n",
       "        [ 0,  2,  3, 18, 19],\n",
       "        [ 0,  0,  8,  2, 24],\n",
       "        [ 0,  5, 13,  7,  1],\n",
       "        [ 0,  3,  4, 12,  6]],\n",
       "\n",
       "       [[ 0,  1,  9, 17, 11],\n",
       "        [ 0,  6,  0,  1, 16],\n",
       "        [ 0,  4,  5,  6, 21],\n",
       "        [ 0,  2, 10, 11, 26],\n",
       "        [ 0,  0,  1, 16,  3],\n",
       "        [ 0,  5,  6,  0,  8],\n",
       "        [ 0,  3, 11,  5, 13]]])"
      ]
     },
     "execution_count": 36,
     "metadata": {},
     "output_type": "execute_result"
    }
   ],
   "source": [
    "my_3D_array%my_vector"
   ]
  },
  {
   "cell_type": "markdown",
   "metadata": {},
   "source": [
    "# Creating structured Arrays"
   ]
  },
  {
   "cell_type": "code",
   "execution_count": 37,
   "metadata": {},
   "outputs": [
    {
     "data": {
      "text/plain": [
       "[('name', 'S6'), ('height', 'f8'), ('weight', 'f8'), ('age', 'i8')]"
      ]
     },
     "execution_count": 37,
     "metadata": {},
     "output_type": "execute_result"
    }
   ],
   "source": [
    "person_data_def = [('name','S6'),('height','f8'),('weight','f8'), ('age', 'i8')]\n",
    "person_data_def"
   ]
  },
  {
   "cell_type": "code",
   "execution_count": 38,
   "metadata": {},
   "outputs": [
    {
     "data": {
      "text/plain": [
       "array([(b'', 0., 0., 0), (b'', 0., 0., 0), (b'', 0., 0., 0),\n",
       "       (b'', 0., 0., 0)],\n",
       "      dtype=[('name', 'S6'), ('height', '<f8'), ('weight', '<f8'), ('age', '<i8')])"
      ]
     },
     "execution_count": 38,
     "metadata": {},
     "output_type": "execute_result"
    }
   ],
   "source": [
    "person_array=np.zeros((4), dtype=person_data_def)\n",
    "person_array"
   ]
  },
  {
   "cell_type": "code",
   "execution_count": 39,
   "metadata": {},
   "outputs": [
    {
     "data": {
      "text/plain": [
       "array([(b'Kalpan', 5.4, 46., 20), (b'', 0. ,  0.,  0),\n",
       "       (b'', 0. ,  0.,  0), (b'Takshs', 5.3, 44., 26)],\n",
       "      dtype=[('name', 'S6'), ('height', '<f8'), ('weight', '<f8'), ('age', '<i8')])"
      ]
     },
     "execution_count": 39,
     "metadata": {},
     "output_type": "execute_result"
    }
   ],
   "source": [
    "person_array[3]=(\"Takshshila\", 5.3, 44, 26)\n",
    "person_array[0]=(\"Kalpana\", 5.4, 46, 20)\n",
    "person_array"
   ]
  },
  {
   "cell_type": "code",
   "execution_count": 40,
   "metadata": {},
   "outputs": [
    {
     "data": {
      "text/plain": [
       "array([(b'Kalpan', 5.4, 46., 20), (b'', 0. ,  0.,  0),\n",
       "       (b'', 0. ,  0.,  0), (b'Takshs', 5.3, 44., 26)],\n",
       "      dtype=[('name', 'S6'), ('height', '<f8'), ('weight', '<f8'), ('age', '<i8')])"
      ]
     },
     "execution_count": 40,
     "metadata": {},
     "output_type": "execute_result"
    }
   ],
   "source": [
    "person_array[0:]"
   ]
  },
  {
   "cell_type": "code",
   "execution_count": 41,
   "metadata": {},
   "outputs": [
    {
     "data": {
      "text/plain": [
       "array([(b'Takshs', 5.3, 44., 26), (b'', 0. ,  0.,  0),\n",
       "       (b'', 0. ,  0.,  0), (b'Kalpan', 5.4, 46., 20)],\n",
       "      dtype=[('name', 'S6'), ('height', '<f8'), ('weight', '<f8'), ('age', '<i8')])"
      ]
     },
     "execution_count": 41,
     "metadata": {},
     "output_type": "execute_result"
    }
   ],
   "source": [
    "person_array[::-1]"
   ]
  },
  {
   "cell_type": "code",
   "execution_count": 43,
   "metadata": {},
   "outputs": [
    {
     "data": {
      "text/plain": [
       "array([20,  0,  0, 26])"
      ]
     },
     "execution_count": 43,
     "metadata": {},
     "output_type": "execute_result"
    }
   ],
   "source": [
    "ages=person_array['age']\n",
    "ages"
   ]
  },
  {
   "cell_type": "code",
   "execution_count": 44,
   "metadata": {},
   "outputs": [
    {
     "data": {
      "text/plain": [
       "array([10.,  0.,  0., 13.])"
      ]
     },
     "execution_count": 44,
     "metadata": {},
     "output_type": "execute_result"
    }
   ],
   "source": [
    "makeYouthful=ages/2\n",
    "makeYouthful"
   ]
  },
  {
   "cell_type": "code",
   "execution_count": 45,
   "metadata": {},
   "outputs": [
    {
     "data": {
      "text/plain": [
       "array([(b'Kalpan', 5.4, 46., 20), (b'', 0. ,  0.,  0),\n",
       "       (b'', 0. ,  0.,  0), (b'Takshs', 5.3, 44., 26)],\n",
       "      dtype=[('name', 'S6'), ('height', '<f8'), ('weight', '<f8'), ('age', '<i8')])"
      ]
     },
     "execution_count": 45,
     "metadata": {},
     "output_type": "execute_result"
    }
   ],
   "source": [
    "person_array"
   ]
  },
  {
   "cell_type": "markdown",
   "metadata": {},
   "source": [
    "### Multi-dimensional Structure Array"
   ]
  },
  {
   "cell_type": "code",
   "execution_count": 46,
   "metadata": {},
   "outputs": [
    {
     "data": {
      "text/plain": [
       "array([[[(b'', 0., 0., 0), (b'', 0., 0., 0)],\n",
       "        [(b'', 0., 0., 0), (b'', 0., 0., 0)],\n",
       "        [(b'', 0., 0., 0), (b'', 0., 0., 0)]],\n",
       "\n",
       "       [[(b'', 0., 0., 0), (b'', 0., 0., 0)],\n",
       "        [(b'', 0., 0., 0), (b'', 0., 0., 0)],\n",
       "        [(b'', 0., 0., 0), (b'', 0., 0., 0)]],\n",
       "\n",
       "       [[(b'', 0., 0., 0), (b'', 0., 0., 0)],\n",
       "        [(b'', 0., 0., 0), (b'', 0., 0., 0)],\n",
       "        [(b'', 0., 0., 0), (b'', 0., 0., 0)]],\n",
       "\n",
       "       [[(b'', 0., 0., 0), (b'', 0., 0., 0)],\n",
       "        [(b'', 0., 0., 0), (b'', 0., 0., 0)],\n",
       "        [(b'', 0., 0., 0), (b'', 0., 0., 0)]]],\n",
       "      dtype=[('name', 'S6'), ('height', '<f8'), ('weight', '<f8'), ('age', '<i8')])"
      ]
     },
     "execution_count": 46,
     "metadata": {},
     "output_type": "execute_result"
    }
   ],
   "source": [
    "person_big_array=np.zeros((4,3,2), dtype=person_data_def)\n",
    "person_big_array"
   ]
  },
  {
   "cell_type": "code",
   "execution_count": 47,
   "metadata": {},
   "outputs": [
    {
     "data": {
      "text/plain": [
       "array([[[(b'',  0.,   0.,  0), (b'',  0.,   0.,  0)],\n",
       "        [(b'',  0.,   0.,  0), (b'',  0.,   0.,  0)],\n",
       "        [(b'',  0.,   0.,  0), (b'',  0.,   0.,  0)]],\n",
       "\n",
       "       [[(b'',  0.,   0.,  0), (b'',  0.,   0.,  0)],\n",
       "        [(b'',  0.,   0.,  0), (b'',  0.,   0.,  0)],\n",
       "        [(b'',  0.,   0.,  0), (b'',  0.,   0.,  0)]],\n",
       "\n",
       "       [[(b'',  0.,   0.,  0), (b'',  0.,   0.,  0)],\n",
       "        [(b'',  0.,   0.,  0), (b'',  0.,   0.,  0)],\n",
       "        [(b'',  0.,   0.,  0), (b'',  0.,   0.,  0)]],\n",
       "\n",
       "       [[(b'',  0.,   0.,  0), (b'',  0.,   0.,  0)],\n",
       "        [(b'',  0.,   0.,  0), (b'',  0.,   0.,  0)],\n",
       "        [(b'',  0.,   0.,  0), (b'Echo', 46., 155., 69)]]],\n",
       "      dtype=[('name', 'S6'), ('height', '<f8'), ('weight', '<f8'), ('age', '<i8')])"
      ]
     },
     "execution_count": 47,
     "metadata": {},
     "output_type": "execute_result"
    }
   ],
   "source": [
    "person_big_array[3][2][1]=(\"Echo\", 46, 155, 69 )\n",
    "person_big_array"
   ]
  },
  {
   "cell_type": "code",
   "execution_count": 48,
   "metadata": {},
   "outputs": [
    {
     "data": {
      "text/plain": [
       "array([[[ 0.,  0.],\n",
       "        [ 0.,  0.],\n",
       "        [ 0.,  0.]],\n",
       "\n",
       "       [[ 0.,  0.],\n",
       "        [ 0.,  0.],\n",
       "        [ 0.,  0.]],\n",
       "\n",
       "       [[ 0.,  0.],\n",
       "        [ 0.,  0.],\n",
       "        [ 0.,  0.]],\n",
       "\n",
       "       [[ 0.,  0.],\n",
       "        [ 0.,  0.],\n",
       "        [ 0., 46.]]])"
      ]
     },
     "execution_count": 48,
     "metadata": {},
     "output_type": "execute_result"
    }
   ],
   "source": [
    "person_big_array['height']"
   ]
  },
  {
   "cell_type": "code",
   "execution_count": 52,
   "metadata": {},
   "outputs": [
    {
     "data": {
      "text/plain": [
       "array([[[( 0.,   0.), ( 0.,   0.)],\n",
       "        [( 0.,   0.), ( 0.,   0.)],\n",
       "        [( 0.,   0.), ( 0.,   0.)]],\n",
       "\n",
       "       [[( 0.,   0.), ( 0.,   0.)],\n",
       "        [( 0.,   0.), ( 0.,   0.)],\n",
       "        [( 0.,   0.), ( 0.,   0.)]],\n",
       "\n",
       "       [[( 0.,   0.), ( 0.,   0.)],\n",
       "        [( 0.,   0.), ( 0.,   0.)],\n",
       "        [( 0.,   0.), ( 0.,   0.)]],\n",
       "\n",
       "       [[( 0.,   0.), ( 0.,   0.)],\n",
       "        [( 0.,   0.), ( 0.,   0.)],\n",
       "        [( 0.,   0.), (46., 155.)]]],\n",
       "      dtype={'names':['height','weight'], 'formats':['<f8','<f8'], 'offsets':[6,14], 'itemsize':30})"
      ]
     },
     "execution_count": 52,
     "metadata": {},
     "output_type": "execute_result"
    }
   ],
   "source": [
    "person_big_array[['height','weight']]"
   ]
  },
  {
   "cell_type": "code",
   "execution_count": 50,
   "metadata": {},
   "outputs": [
    {
     "data": {
      "text/plain": [
       "array([[[ 0,  0],\n",
       "        [ 0,  0],\n",
       "        [ 0,  0]],\n",
       "\n",
       "       [[ 0,  0],\n",
       "        [ 0,  0],\n",
       "        [ 0,  0]],\n",
       "\n",
       "       [[ 0,  0],\n",
       "        [ 0,  0],\n",
       "        [ 0,  0]],\n",
       "\n",
       "       [[ 0,  0],\n",
       "        [ 0,  0],\n",
       "        [ 0, 69]]])"
      ]
     },
     "execution_count": 50,
     "metadata": {},
     "output_type": "execute_result"
    }
   ],
   "source": [
    "person_big_array['age']"
   ]
  },
  {
   "cell_type": "markdown",
   "metadata": {},
   "source": [
    "### Creating Record Array"
   ]
  },
  {
   "cell_type": "code",
   "execution_count": 53,
   "metadata": {},
   "outputs": [
    {
     "data": {
      "text/plain": [
       "rec.array([(b'Delta', 73., 105., 34), (b'Alpha', 71., 115., 47)],\n",
       "          dtype=[('name', 'S6'), ('height', '<f8'), ('weight', '<f8'), ('age', '<i8')])"
      ]
     },
     "execution_count": 53,
     "metadata": {},
     "output_type": "execute_result"
    }
   ],
   "source": [
    "person_record_array=np.rec.array([('Delta', 73, 105, 34), ('Alpha', 71, 115, 47)], dtype=person_data_def)\n",
    "person_record_array"
   ]
  },
  {
   "cell_type": "markdown",
   "metadata": {},
   "source": [
    "# Plots: Matplotlib and Pyplot"
   ]
  },
  {
   "cell_type": "code",
   "execution_count": 3,
   "metadata": {},
   "outputs": [],
   "source": [
    "%matplotlib inline"
   ]
  },
  {
   "cell_type": "code",
   "execution_count": 5,
   "metadata": {},
   "outputs": [
    {
     "data": {
      "image/png": "[encoded data removed]",
      "text/plain": [
       "<Figure size 432x288 with 1 Axes>"
      ]
     },
     "metadata": {
      "needs_background": "light"
     },
     "output_type": "display_data"
    }
   ],
   "source": [
    "import numpy as np\n",
    "import matplotlib.pyplot as plt\n",
    "\n",
    "mu, sigma = 100, 15\n",
    "data_set = mu + sigma * np.random.randn(10000)\n",
    "\n",
    "# the histogram of the data\n",
    "n, bins, patches = plt.hist(data_set, 50, density=1, facecolor='g', alpha=0.75)\n",
    "\n",
    "plt.xlabel('Smarts')\n",
    "plt.ylabel('Probability')\n",
    "plt.title('Histogram of IQ')\n",
    "plt.text(60, .025, r'$\\mu=100,\\ \\sigma=15$')\n",
    "plt.axis([40, 160, 0, 0.03])\n",
    "plt.grid(True)\n",
    "plt.show()"
   ]
  },
  {
   "cell_type": "markdown",
   "metadata": {},
   "source": [
    "<h3>Available Colors:</h3>\n",
    "<pre>\n",
    "<code>\n",
    "code       color\n",
    "________________________\n",
    "&#39;k&#39;         black\n",
    "&#39;b&#39;         blue\n",
    "&#39;c&#39;         cyan\n",
    "&#39;g&#39;         green\n",
    "&#39;m&#39;         magenta\n",
    "&#39;r&#39;         red\n",
    "&#39;w&#39;         white\n",
    "&#39;y&#39;         yellow\n",
    "</code>\n",
    "</pre>"
   ]
  },
  {
   "cell_type": "markdown",
   "metadata": {},
   "source": [
    "<p>Available Markers:</p>\n",
    "<table border=\"1\" class=\"docutils\">\n",
    "<colgroup>\n",
    "<col width=\"38%\" />\n",
    "<col width=\"62%\" />\n",
    "</colgroup>\n",
    "<thead valign=\"bottom\">\n",
    "<tr class=\"row-odd\"><th class=\"head\">marker</th>\n",
    "<th class=\"head\">description</th>\n",
    "</tr>\n",
    "</thead>\n",
    "<tbody valign=\"top\">\n",
    "<tr class=\"row-even\"><td>&#8221;.&#8221;</td>\n",
    "<td>point</td>\n",
    "</tr>\n",
    "<tr class=\"row-odd\"><td>&#8221;,&#8221;</td>\n",
    "<td>pixel</td>\n",
    "</tr>\n",
    "<tr class=\"row-even\"><td>&#8220;o&#8221;</td>\n",
    "<td>circle</td>\n",
    "</tr>\n",
    "<tr class=\"row-odd\"><td>&#8220;v&#8221;</td>\n",
    "<td>triangle_down</td>\n",
    "</tr>\n",
    "<tr class=\"row-even\"><td>&#8220;^&#8221;</td>\n",
    "<td>triangle_up</td>\n",
    "</tr>\n",
    "<tr class=\"row-odd\"><td>&#8220;&lt;&#8221;</td>\n",
    "<td>triangle_left</td>\n",
    "</tr>\n",
    "<tr class=\"row-even\"><td>&#8220;&gt;&#8221;</td>\n",
    "<td>triangle_right</td>\n",
    "</tr>\n",
    "<tr class=\"row-odd\"><td>&#8220;1&#8221;</td>\n",
    "<td>tri_down</td>\n",
    "</tr>\n",
    "<tr class=\"row-even\"><td>&#8220;2&#8221;</td>\n",
    "<td>tri_up</td>\n",
    "</tr>\n",
    "<tr class=\"row-odd\"><td>&#8220;3&#8221;</td>\n",
    "<td>tri_left</td>\n",
    "</tr>\n",
    "<tr class=\"row-even\"><td>&#8220;4&#8221;</td>\n",
    "<td>tri_right</td>\n",
    "</tr>\n",
    "<tr class=\"row-odd\"><td>&#8220;8&#8221;</td>\n",
    "<td>octagon</td>\n",
    "</tr>\n",
    "<tr class=\"row-even\"><td>&#8220;s&#8221;</td>\n",
    "<td>square</td>\n",
    "</tr>\n",
    "<tr class=\"row-odd\"><td>&#8220;p&#8221;</td>\n",
    "<td>pentagon</td>\n",
    "</tr>\n",
    "<tr class=\"row-even\"><td>&#8220;*&#8221;</td>\n",
    "<td>star</td>\n",
    "</tr>\n",
    "<tr class=\"row-odd\"><td>&#8220;h&#8221;</td>\n",
    "<td>hexagon1</td>\n",
    "</tr>\n",
    "<tr class=\"row-even\"><td>&#8220;H&#8221;</td>\n",
    "<td>hexagon2</td>\n",
    "</tr>\n",
    "<tr class=\"row-odd\"><td>&#8220;+&#8221;</td>\n",
    "<td>plus</td>\n",
    "</tr>\n",
    "<tr class=\"row-even\"><td>&#8220;x&#8221;</td>\n",
    "<td>x</td>\n",
    "</tr>\n",
    "<tr class=\"row-odd\"><td>&#8220;D&#8221;</td>\n",
    "<td>diamond</td>\n",
    "</tr>\n",
    "<tr class=\"row-even\"><td>&#8220;d&#8221;</td>\n",
    "<td>thin_diamond</td>\n",
    "</tr>\n",
    "<tr class=\"row-odd\"><td>&#8220;|&#8221;</td>\n",
    "<td>vline</td>\n",
    "</tr>\n",
    "<tr class=\"row-even\"><td>&#8220;_&#8221;</td>\n",
    "<td>hline</td>\n",
    "</tr>\n",
    "<tr class=\"row-odd\"><td>TICKLEFT</td>\n",
    "<td>tickleft</td>\n",
    "</tr>\n",
    "<tr class=\"row-even\"><td>TICKRIGHT</td>\n",
    "<td>tickright</td>\n",
    "</tr>\n",
    "<tr class=\"row-odd\"><td>TICKUP</td>\n",
    "<td>tickup</td>\n",
    "</tr>\n",
    "<tr class=\"row-even\"><td>TICKDOWN</td>\n",
    "<td>tickdown</td>\n",
    "</tr>\n",
    "<tr class=\"row-odd\"><td>CARETLEFT</td>\n",
    "<td>caretleft</td>\n",
    "</tr>\n",
    "<tr class=\"row-even\"><td>CARETRIGHT</td>\n",
    "<td>caretright</td>\n",
    "</tr>\n",
    "<tr class=\"row-odd\"><td>CARETUP</td>\n",
    "<td>caretup</td>\n",
    "</tr>\n",
    "<tr class=\"row-even\"><td>CARETDOWN</td>\n",
    "<td>caretdown</td>\n",
    "</tr>\n",
    "<tr class=\"row-odd\"><td>&#8220;None&#8221;</td>\n",
    "<td>nothing</td>\n",
    "</tr>\n",
    "<tr class=\"row-even\"><td>None</td>\n",
    "<td>nothing</td>\n",
    "</tr>\n",
    "<tr class=\"row-odd\"><td>&#8221; &#8220;</td>\n",
    "<td>nothing</td>\n",
    "</tr>\n",
    "<tr class=\"row-even\"><td>&#8220;&#8221;</td>\n",
    "<td>nothing</td>\n",
    "</tr>\n",
    "<tr class=\"row-odd\"><td><code class=\"docutils literal\"><span class=\"pre\">'$...$'</span></code></td>\n",
    "<td>render the string using mathtext.</td>\n",
    "</tr>\n",
    "<tr class=\"row-even\"><td><code class=\"xref py py-obj docutils literal\"><span class=\"pre\">verts</span></code></td>\n",
    "<td>a list of (x, y) pairs used for Path vertices.\n",
    "The center of the marker is located at (0,0) and\n",
    "the size is normalized.</td>\n",
    "</tr>\n",
    "<tr class=\"row-odd\"><td>path</td>\n",
    "<td>a <a class=\"reference internal\" href=\"path_api.html#matplotlib.path.Path\" title=\"matplotlib.path.Path\"><code class=\"xref py py-obj docutils literal\"><span class=\"pre\">Path</span></code></a> instance.</td>\n",
    "</tr>\n",
    "<tr class=\"row-even\"><td>(<code class=\"xref py py-obj docutils literal\"><span class=\"pre\">numsides</span></code>, <code class=\"xref py py-obj docutils literal\"><span class=\"pre\">style</span></code>, <code class=\"xref py py-obj docutils literal\"><span class=\"pre\">angle</span></code>)</td>\n",
    "<td>see below</td>\n",
    "</tr>\n",
    "</tbody>\n",
    "</table>"
   ]
  },
  {
   "cell_type": "markdown",
   "metadata": {},
   "source": [
    "### Figures and Subplots\n",
    "- figure - container thats holds all elements of plot(s)\n",
    "- subplot - appears within a rectangular grid within a figure"
   ]
  },
  {
   "cell_type": "code",
   "execution_count": 7,
   "metadata": {},
   "outputs": [],
   "source": [
    "import numpy as np\n",
    "import matplotlib.pyplot as plt"
   ]
  },
  {
   "cell_type": "code",
   "execution_count": 8,
   "metadata": {},
   "outputs": [
    {
     "data": {
      "text/plain": [
       "<Figure size 432x288 with 0 Axes>"
      ]
     },
     "metadata": {},
     "output_type": "display_data"
    }
   ],
   "source": [
    "my_first_figure=plt.figure(\"My first figure\")"
   ]
  },
  {
   "cell_type": "code",
   "execution_count": 9,
   "metadata": {},
   "outputs": [],
   "source": [
    "subplot_1=my_first_figure.add_subplot(2,3,1)\n",
    "subplot_6=my_first_figure.add_subplot(2,3,6)\n"
   ]
  },
  {
   "cell_type": "code",
   "execution_count": 10,
   "metadata": {},
   "outputs": [
    {
     "data": {
      "image/png": "[encoded data removed]",
      "text/plain": [
       "<Figure size 432x288 with 1 Axes>"
      ]
     },
     "metadata": {
      "needs_background": "light"
     },
     "output_type": "display_data"
    }
   ],
   "source": [
    "plt.plot(np.random.random(50).cumsum(), \"b--\")\n",
    "plt.show()"
   ]
  },
  {
   "cell_type": "code",
   "execution_count": 11,
   "metadata": {},
   "outputs": [
    {
     "name": "stderr",
     "output_type": "stream",
     "text": [
      "/Users/takshshilarawat/opt/anaconda3/lib/python3.7/site-packages/ipykernel_launcher.py:1: MatplotlibDeprecationWarning: Adding an axes using the same arguments as a previous axes currently reuses the earlier instance.  In a future version, a new instance will always be created and returned.  Meanwhile, this warning can be suppressed, and the future behavior ensured, by passing a unique label to each axes instance.\n",
      "  \"\"\"Entry point for launching an IPython kernel.\n"
     ]
    }
   ],
   "source": [
    "subplot_2=my_first_figure.add_subplot(2,3,6)"
   ]
  },
  {
   "cell_type": "markdown",
   "metadata": {},
   "source": [
    "### Multiple lines, single plot"
   ]
  },
  {
   "cell_type": "code",
   "execution_count": 12,
   "metadata": {},
   "outputs": [],
   "source": [
    "import numpy as np\n",
    "import matplotlib.pyplot as plt"
   ]
  },
  {
   "cell_type": "markdown",
   "metadata": {},
   "source": [
    "<h2>random low and high temperature data</h2>"
   ]
  },
  {
   "cell_type": "code",
   "execution_count": 16,
   "metadata": {},
   "outputs": [],
   "source": []
  },
  {
   "cell_type": "code",
   "execution_count": 17,
   "metadata": {},
   "outputs": [
    {
     "data": {
      "image/png": "[encoded data removed]",
      "text/plain": [
       "<Figure size 432x288 with 1 Axes>"
      ]
     },
     "metadata": {
      "needs_background": "light"
     },
     "output_type": "display_data"
    }
   ],
   "source": [
    "plt.plot(days, low_data_set)\n",
    "plt.show()"
   ]
  },
  {
   "cell_type": "code",
   "execution_count": 23,
   "metadata": {},
   "outputs": [
    {
     "data": {
      "image/png": "[encoded data removed]",
      "text/plain": [
       "<Figure size 432x288 with 1 Axes>"
      ]
     },
     "metadata": {
      "needs_background": "light"
     },
     "output_type": "display_data"
    }
   ],
   "source": [
    "plt.plot(days, low_data_set, days, high_data_set)\n",
    "plt.show()"
   ]
  },
  {
   "cell_type": "code",
   "execution_count": 24,
   "metadata": {},
   "outputs": [
    {
     "data": {
      "image/png": "[encoded data removed]",
      "text/plain": [
       "<Figure size 432x288 with 1 Axes>"
      ]
     },
     "metadata": {
      "needs_background": "light"
     },
     "output_type": "display_data"
    }
   ],
   "source": [
    "plt.plot(days, low_data_set, days, low_data_set,\"vm\" , days, high_data_set, days, high_data_set, \"^k\")\n",
    "plt.show()"
   ]
  },
  {
   "cell_type": "code",
   "execution_count": 26,
   "metadata": {},
   "outputs": [
    {
     "data": {
      "image/png": "[encoded data removed]",
      "text/plain": [
       "<Figure size 432x288 with 1 Axes>"
      ]
     },
     "metadata": {
      "needs_background": "light"
     },
     "output_type": "display_data"
    }
   ],
   "source": [
    "plt.plot(days, low_data_set, days, high_data_set)\n",
    "plt.xlabel(\"Days\")\n",
    "plt.ylabel(\"Temperature: degrees ferenheit\")\n",
    "plt.title(\"Randomize temperature data\")\n",
    "plt.show()"
   ]
  },
  {
   "cell_type": "code",
   "execution_count": 27,
   "metadata": {},
   "outputs": [
    {
     "data": {
      "image/png": "[encoded data removed]",
      "text/plain": [
       "<Figure size 432x288 with 1 Axes>"
      ]
     },
     "metadata": {
      "needs_background": "light"
     },
     "output_type": "display_data"
    }
   ],
   "source": [
    "plt.plot(days, high_data_set, \"^k\")\n",
    "plt.xlabel(\"Days\")\n",
    "plt.ylabel(\"Temperature: degrees ferenheit\")\n",
    "plt.title(\"Randomize temperature data\")\n",
    "plt.show()"
   ]
  },
  {
   "cell_type": "markdown",
   "metadata": {},
   "source": [
    "Next example from: http://matplotlib.org/examples/pylab_examples/legend_demo2.html"
   ]
  },
  {
   "cell_type": "code",
   "execution_count": 28,
   "metadata": {},
   "outputs": [
    {
     "data": {
      "image/png": "[encoded data removed]",
      "text/plain": [
       "<Figure size 432x288 with 1 Axes>"
      ]
     },
     "metadata": {
      "needs_background": "light"
     },
     "output_type": "display_data"
    }
   ],
   "source": [
    "t1 = np.arange(0.0, 2.0, 0.1)\n",
    "t2 = np.arange(0.0, 2.0, 0.01)\n",
    "\n",
    "# note that plot returns a list of lines.  The \"l1, = plot\" usage\n",
    "# extracts the first element of the list into l1 using tuple\n",
    "# unpacking.  So l1 is a Line2D instance, not a sequence of lines\n",
    "l1, = plt.plot(t2, np.exp(-t2))\n",
    "l2, l3 = plt.plot(t2, np.sin(2 * np.pi * t2), '--go', t1, np.log(1 + t1), '.')\n",
    "l4, = plt.plot(t2, np.exp(-t2) * np.sin(2 * np.pi * t2), 'rs-.')\n",
    "\n",
    "plt.legend((l2, l4), ('oscillatory', 'damped'), loc='upper right', shadow=True)\n",
    "plt.xlabel('time')\n",
    "plt.ylabel('volts')\n",
    "plt.title('Damped oscillation')\n",
    "plt.show()"
   ]
  },
  {
   "cell_type": "markdown",
   "metadata": {},
   "source": [
    "###  Tick Marks, labels and grids"
   ]
  },
  {
   "cell_type": "code",
   "execution_count": 29,
   "metadata": {},
   "outputs": [
    {
     "data": {
      "image/png": "[encoded data removed]",
      "text/plain": [
       "<Figure size 432x288 with 1 Axes>"
      ]
     },
     "metadata": {
      "needs_background": "light"
     },
     "output_type": "display_data"
    }
   ],
   "source": [
    "number_of_data_points = 1000\n",
    "\n",
    "my_figure = plt.figure()\n",
    "subplot_1 = my_figure.add_subplot(1, 1, 1)\n",
    "subplot_1.plot(np.random.rand(number_of_data_points).cumsum())\n",
    "\n",
    "number_of_ticks = 5\n",
    "ticks = np.arange(0, number_of_data_points, number_of_data_points//number_of_ticks)\n",
    "subplot_1.set_xticks(ticks)\n",
    "\n",
    "labels = subplot_1.set_xticklabels(['one', 'two', 'three', 'four', 'five'], rotation=45, fontsize='small')\n",
    "\n",
    "subplot_1.set_title (\"My First Ticked Plot\")\n",
    "subplot_1.set_xlabel (\"Groups\")\n",
    "\n",
    "subplot_1.grid(True)\n",
    "gridlines = subplot_1.get_xgridlines() + subplot_1.get_ygridlines()\n",
    "for line in gridlines:\n",
    "    line.set_linestyle(':')\n",
    "plt.show()"
   ]
  },
  {
   "cell_type": "markdown",
   "metadata": {},
   "source": [
    "Line styles for grid lines\n",
    "<list>\n",
    "    <li>-    solid line</li>\n",
    "    <li>--   dashed line</li>\n",
    "    <li>-.   dash dot line</li>\n",
    "    <li>:    dotted</li>\n",
    "</list>\n",
    "\n",
    "More information about lines available at: http://matplotlib.org/api/lines_api.html"
   ]
  },
  {
   "cell_type": "markdown",
   "metadata": {},
   "source": []
  },
  {
   "cell_type": "markdown",
   "metadata": {},
   "source": [
    "### Plot Annotation"
   ]
  },
  {
   "cell_type": "code",
   "execution_count": 1,
   "metadata": {},
   "outputs": [],
   "source": [
    "import numpy as np\n",
    "import matplotlib.pyplot as plt"
   ]
  },
  {
   "cell_type": "code",
   "execution_count": 2,
   "metadata": {},
   "outputs": [
    {
     "data": {
      "image/png": "[encoded data removed]",
      "text/plain": [
       "<Figure size 432x288 with 1 Axes>"
      ]
     },
     "metadata": {
      "needs_background": "light"
     },
     "output_type": "display_data"
    }
   ],
   "source": [
    "number_of_data_points = 10\n",
    "\n",
    "my_figure = plt.figure()\n",
    "subplot_1 = my_figure.add_subplot(1, 1, 1)\n",
    "subplot_1.plot(np.random.rand(number_of_data_points).cumsum())\n",
    "\n",
    "subplot_1.text (1, 0.5, r'an equation: $E=mc^2$', fontsize=18, color='red')\n",
    "subplot_1.text (1, 1.5, \"Hello, Mountain Climbing!\", family='monospace', fontsize=14, color='green')\n",
    "\n",
    "# see: http://matplotlib.org/users/transforms_tutorial.html\n",
    "# transform=subplot_1.transAxes; entire axis between zero and one\n",
    "subplot_1.text(0.5, 0.5, \"We are centered, now\", transform=subplot_1.transAxes)\n",
    "\n",
    "subplot_1.annotate('shoot arrow', xy=(2, 1), xytext=(3, 4),\n",
    "            arrowprops=dict(facecolor='red', shrink=0.05))\n",
    "\n",
    "plt.show()"
   ]
  },
  {
   "cell_type": "code",
   "execution_count": 3,
   "metadata": {},
   "outputs": [
    {
     "data": {
      "image/png": "[encoded data removed]",
      "text/plain": [
       "<Figure size 432x288 with 1 Axes>"
      ]
     },
     "metadata": {
      "needs_background": "light"
     },
     "output_type": "display_data"
    }
   ],
   "source": [
    "x = np.arange(0, 10, 0.005)\n",
    "y = np.exp(-x/2.) * np.sin(2*np.pi*x)\n",
    "\n",
    "fig = plt.figure()\n",
    "ax = fig.add_subplot(111)\n",
    "ax.plot(x, y)\n",
    "ax.set_xlim(0, 10)\n",
    "ax.set_ylim(-1, 1)\n",
    "\n",
    "plt.show()"
   ]
  },
  {
   "cell_type": "code",
   "execution_count": 4,
   "metadata": {},
   "outputs": [
    {
     "data": {
      "image/png": "[encoded data removed]",
      "text/plain": [
       "<Figure size 432x288 with 1 Axes>"
      ]
     },
     "metadata": {
      "needs_background": "light"
     },
     "output_type": "display_data"
    }
   ],
   "source": [
    "x = np.arange(0, 10, 0.005)\n",
    "y = np.exp(-x/2.) * np.sin(2*np.pi*x)\n",
    "\n",
    "fig = plt.figure()\n",
    "ax = fig.add_subplot(111)\n",
    "ax.plot(x, y)\n",
    "ax.set_xlim(0, 10)\n",
    "ax.set_ylim(-1, 1)\n",
    "\n",
    "xdata, ydata = 5, 0\n",
    "xdisplay, ydisplay = ax.transData.transform_point((xdata, ydata))\n",
    "\n",
    "bbox = dict(boxstyle=\"round\", fc=\"0.8\")\n",
    "arrowprops = dict(\n",
    "    arrowstyle = \"->\",\n",
    "    connectionstyle = \"angle,angleA=0,angleB=90,rad=10\")\n",
    "\n",
    "offset = 72\n",
    "ax.annotate('data = (%.1f, %.1f)'%(xdata, ydata),\n",
    "            (xdata, ydata), xytext=(-2*offset, offset), textcoords='offset points',\n",
    "            bbox=bbox, arrowprops=arrowprops)\n",
    "\n",
    "\n",
    "disp = ax.annotate('display = (%.1f, %.1f)'%(xdisplay, ydisplay),\n",
    "            (xdisplay, ydisplay), xytext=(0.5*offset, -offset),\n",
    "            xycoords='figure pixels',\n",
    "            textcoords='offset points',\n",
    "            bbox=bbox, arrowprops=arrowprops)\n",
    "\n",
    "\n",
    "plt.show()\n",
    "\n"
   ]
  },
  {
   "cell_type": "code",
   "execution_count": 5,
   "metadata": {},
   "outputs": [
    {
     "data": {
      "image/png": "[encoded data removed]",
      "text/plain": [
       "<Figure size 432x288 with 4 Axes>"
      ]
     },
     "metadata": {
      "needs_background": "light"
     },
     "output_type": "display_data"
    }
   ],
   "source": [
    "fig = plt.figure()\n",
    "for i, label in enumerate(('A', 'B', 'C', 'D')):\n",
    "    ax = fig.add_subplot(2,2,i+1)\n",
    "    ax.text(0.05, 0.95, label, transform=ax.transAxes,\n",
    "      fontsize=16, fontweight='bold', va='top')\n",
    "\n",
    "plt.show()"
   ]
  },
  {
   "cell_type": "markdown",
   "metadata": {},
   "source": [
    "## Pie Charts and Bar charts"
   ]
  },
  {
   "cell_type": "code",
   "execution_count": 6,
   "metadata": {},
   "outputs": [],
   "source": [
    "import numpy as np\n",
    "import matplotlib.pyplot as plt"
   ]
  },
  {
   "cell_type": "markdown",
   "metadata": {},
   "source": [
    "this is example is from: http://matplotlib.org/examples/pie_and_polar_charts/pie_demo_features.html"
   ]
  },
  {
   "cell_type": "markdown",
   "metadata": {},
   "source": [
    "In addition to a basic pie chart, this demo shows a few optional features:\n",
    "\n",
    "    * slice labels\n",
    "    * auto-labeling the percentage\n",
    "    * offsetting a slice with \"explode\"\n",
    "    * drop-shadow\n",
    "    * custom start angle\n",
    "\n",
    "Note about the custom start angle:\n",
    "\n",
    "The default ``startangle`` is 0, which would start the \"Frogs\" slice on the\n",
    "positive x-axis. This example sets ``startangle = 90`` such that everything is\n",
    "rotated counter-clockwise by 90 degrees, and the frog slice starts on the\n",
    "positive y-axis.\n",
    "\n"
   ]
  },
  {
   "cell_type": "markdown",
   "metadata": {},
   "source": [
    "<h3> pie function API</h3>\n",
    "\n",
    "http://matplotlib.org/api/pyplot_api.html\n",
    "\n",
    "matplotlib.pyplot.pie(x, explode=None, labels=None, colors=None, autopct=None, pctdistance=0.6, shadow=False, labeldistance=1.1, startangle=None, radius=None, counterclock=True, wedgeprops=None, textprops=None, center=(0, 0), frame=False, hold=None, data=None)¶"
   ]
  },
  {
   "cell_type": "code",
   "execution_count": 13,
   "metadata": {},
   "outputs": [
    {
     "data": {
      "image/png": "[encoded data removed]",
      "text/plain": [
       "<Figure size 432x288 with 1 Axes>"
      ]
     },
     "metadata": {},
     "output_type": "display_data"
    }
   ],
   "source": [
    "# The slices will be ordered and plotted counter-clockwise.\n",
    "labels = 'Frogs', 'Hogs', 'Dogs', 'Logs'\n",
    "sizes = [15, 30, 45, 10]\n",
    "colors = ['yellowgreen', 'gold', 'lightskyblue', 'lightcoral']\n",
    "explode = (0, 0.1, 0, 0)  # only \"explode\" the 2nd slice (i.e. 'Hogs')\n",
    "\n",
    "plt.pie(x=sizes, explode=explode, labels=labels, colors=colors,\n",
    "        autopct='%1.0f%%', shadow=True, startangle=90)\n",
    "# Set aspect ratio to be equal so that pie is drawn as a circle.\n",
    "plt.axis('equal')\n",
    "\n",
    "\n",
    "\n",
    "plt.show()"
   ]
  },
  {
   "cell_type": "markdown",
   "metadata": {},
   "source": [
    "<h3>Bar Chart</h3>\n",
    "This example is from: http://matplotlib.org/examples/api/barchart_demo.html\n",
    "\n",
    "API location: http://matplotlib.org/api/pyplot_api.html\n",
    "<P>\n",
    "matplotlib.pyplot.bar(left, height, width=0.8, bottom=None, hold=None, data=None, **kwargs)¶"
   ]
  },
  {
   "cell_type": "code",
   "execution_count": 14,
   "metadata": {},
   "outputs": [
    {
     "data": {
      "image/png": "[encoded data removed]",
      "text/plain": [
       "<Figure size 432x288 with 1 Axes>"
      ]
     },
     "metadata": {
      "needs_background": "light"
     },
     "output_type": "display_data"
    }
   ],
   "source": [
    "N = 5\n",
    "menMeans = (20, 35, 30, 35, 27)\n",
    "menStd = (2, 3, 4, 1, 2)\n",
    "\n",
    "ind = np.arange(N)  # the x locations for the groups\n",
    "width = 0.35       # the width of the bars\n",
    "\n",
    "fig, ax = plt.subplots()\n",
    "rects1 = ax.bar(ind, menMeans, width, color='r', yerr=menStd)\n",
    "\n",
    "womenMeans = (25, 32, 34, 20, 25)\n",
    "womenStd = (3, 5, 2, 3, 3)\n",
    "rects2 = ax.bar(ind + width, womenMeans, width, color='y', yerr=womenStd)\n",
    "\n",
    "\n",
    "# add some text for labels, title and axes ticks\n",
    "ax.set_ylabel('Scores')\n",
    "ax.set_title('Scores by group and gender')\n",
    "\n",
    "ax.set_xticks(ind + width)\n",
    "ax.set_xticklabels(('G1', 'G2', 'G3', 'G4', 'G5'))\n",
    "\n",
    "ax.legend((rects1[0], rects2[0]), ('Men', 'Women'))\n",
    "\n",
    "\n",
    "plt.show()"
   ]
  },
  {
   "cell_type": "markdown",
   "metadata": {},
   "source": [
    "### Beautiful Plots and the Gallery\n",
    "[matplotlib's Gallery](http://matplotlib.org/gallery.html)"
   ]
  },
  {
   "cell_type": "code",
   "execution_count": 21,
   "metadata": {},
   "outputs": [],
   "source": [
    "import numpy as np\n",
    "import matplotlib.pyplot as plt\n",
    "from matplotlib import colors"
   ]
  },
  {
   "cell_type": "markdown",
   "metadata": {},
   "source": [
    "### Named Colors\n",
    "This example is from: http://matplotlib.org/examples/color/named_colors.html\n",
    "\n",
    "### Hue, Saturation, Value\n",
    "Explanation available at: https://en.wikipedia.org/wiki/HSL_and_HSV"
   ]
  },
  {
   "cell_type": "code",
   "execution_count": 22,
   "metadata": {},
   "outputs": [
    {
     "data": {
      "image/png": "[encoded data removed]",
      "text/plain": [
       "<Figure size 432x288 with 1 Axes>"
      ]
     },
     "metadata": {
      "needs_background": "light"
     },
     "output_type": "display_data"
    }
   ],
   "source": [
    "\"\"\"\n",
    "Visualization of named colors.\n",
    "\n",
    "Simple plot example with the named colors and its visual representation.\n",
    "\"\"\"\n",
    "import six\n",
    "\n",
    "colors_ = list(six.iteritems(colors.cnames))\n",
    "\n",
    "# Add the single letter colors.\n",
    "for name, rgb in six.iteritems(colors.ColorConverter.colors):\n",
    "    hex_ = colors.rgb2hex(rgb)\n",
    "    colors_.append((name, hex_))\n",
    "\n",
    "# Transform to hex color values.\n",
    "hex_ = [color[1] for color in colors_]\n",
    "# Get the rgb equivalent.\n",
    "rgb = [colors.hex2color(color) for color in hex_]\n",
    "# Get the hsv equivalent.\n",
    "hsv = [colors.rgb_to_hsv(color) for color in rgb]\n",
    "\n",
    "# Split the hsv values to sort.\n",
    "hue = [color[0] for color in hsv]\n",
    "sat = [color[1] for color in hsv]\n",
    "val = [color[2] for color in hsv]\n",
    "\n",
    "# Sort by hue, saturation and value.\n",
    "ind = np.lexsort((val, sat, hue))\n",
    "sorted_colors = [colors_[i] for i in ind]\n",
    "\n",
    "n = len(sorted_colors)\n",
    "ncols = 4\n",
    "nrows = int(np.ceil(1. * n / ncols))\n",
    "\n",
    "fig, ax = plt.subplots()\n",
    "\n",
    "X, Y = fig.get_dpi() * fig.get_size_inches()\n",
    "\n",
    "# row height\n",
    "h = Y / (nrows + 1)\n",
    "# col width\n",
    "w = X / ncols\n",
    "\n",
    "for i, (name, color) in enumerate(sorted_colors):\n",
    "    col = i % ncols\n",
    "    row = int(i / ncols)\n",
    "    y = Y - (row * h) - h\n",
    "\n",
    "    xi_line = w * (col + 0.05)\n",
    "    xf_line = w * (col + 0.25)\n",
    "    xi_text = w * (col + 0.3)\n",
    "\n",
    "    ax.text(xi_text, y, name, fontsize=(h * 0.8),\n",
    "            horizontalalignment='left',\n",
    "            verticalalignment='center')\n",
    "\n",
    "    # Add extra black line a little bit thicker to make\n",
    "    # clear colors more visible.\n",
    "    ax.hlines(y, xi_line, xf_line, color='black', linewidth=(h * 0.7))\n",
    "    ax.hlines(y + h * 0.1, xi_line, xf_line, color=color, linewidth=(h * 0.6))\n",
    "\n",
    "ax.set_xlim(0, X)\n",
    "ax.set_ylim(0, Y)\n",
    "ax.set_axis_off()\n",
    "\n",
    "fig.subplots_adjust(left=0, right=1,\n",
    "                    top=1, bottom=0,\n",
    "                    hspace=0, wspace=0)\n",
    "plt.show()"
   ]
  },
  {
   "cell_type": "markdown",
   "metadata": {},
   "source": [
    "<h3>Violin Plot versus Box Plot</h3>\n",
    "This example is from: http://matplotlib.org/examples/statistics/boxplot_vs_violin_demo.html\n",
    "<p>\n",
    "For information on violin plots, please see: https://en.wikipedia.org/wiki/Violin_plot"
   ]
  },
  {
   "cell_type": "code",
   "execution_count": 25,
   "metadata": {},
   "outputs": [
    {
     "data": {
      "image/png": "[encoded data removed]",
      "text/plain": [
       "<Figure size 864x360 with 2 Axes>"
      ]
     },
     "metadata": {
      "needs_background": "light"
     },
     "output_type": "display_data"
    }
   ],
   "source": [
    "    # Box plot - violin plot comparison\n",
    "    #\n",
    "    # Note that although violin plots are closely related to Tukey's (1977) box plots,\n",
    "    # they add useful information such as the distribution of the sample data (density trace).\n",
    "    #\n",
    "    # By default, box plots show data points outside 1.5 x the inter-quartile range as outliers\n",
    "    # above or below the whiskers wheras violin plots show the whole range of the data.\n",
    "    #\n",
    "    # Violin plots require matplotlib >= 1.4.\n",
    "\n",
    "\n",
    "\n",
    "    fig, axes = plt.subplots(nrows=1, ncols=2, figsize=(12, 5))\n",
    "\n",
    "    # generate some random test data\n",
    "    all_data = [np.random.normal(0, std, 100) for std in range(6, 10)]\n",
    "\n",
    "    # plot violin plot\n",
    "    axes[0].violinplot(all_data,\n",
    "                       showmeans=False,\n",
    "                       showmedians=True)\n",
    "    axes[0].set_title('violin plot')\n",
    "\n",
    "    # plot box plot\n",
    "    axes[1].boxplot(all_data)\n",
    "    axes[1].set_title('box plot')\n",
    "\n",
    "    # adding horizontal grid lines\n",
    "    for ax in axes:\n",
    "        ax.yaxis.grid(True)\n",
    "        ax.set_xticks([y+1 for y in range(len(all_data))])\n",
    "        ax.set_xlabel('xlabel')\n",
    "        ax.set_ylabel('ylabel')\n",
    "\n",
    "    # add x-tick labels\n",
    "    plt.setp(axes, xticks=[y+1 for y in range(len(all_data))],\n",
    "             xticklabels=['x1', 'x2', 'x3', 'x4'])\n",
    "plt.show()"
   ]
  },
  {
   "cell_type": "markdown",
   "metadata": {},
   "source": [
    "<h3>Financial Data</h3>\n",
    "This example is from: http://matplotlib.org/examples/pylab_examples/finance_work2.html\n",
    "<p>\n",
    "This is a complicated plot with multiple imports.  It illustrates some of the power of mathplotlib\n",
    "<P>\n",
    "For information about matplotlib style sheets, and setting \"rc\" values, please see: http://matplotlib.org/users/customizing.html and http://matplotlib.org/api/matplotlib_configuration_api.html#matplotlib.rc"
   ]
  },
  {
   "cell_type": "code",
   "execution_count": 1,
   "metadata": {},
   "outputs": [
    {
     "ename": "ModuleNotFoundError",
     "evalue": "No module named 'matplotlib.finance'",
     "output_type": "error",
     "traceback": [
      "\u001b[0;31m---------------------------------------------------------------------------\u001b[0m",
      "\u001b[0;31mModuleNotFoundError\u001b[0m                       Traceback (most recent call last)",
      "\u001b[0;32m<ipython-input-1-51a650a8bfe1>\u001b[0m in \u001b[0;36m<module>\u001b[0;34m\u001b[0m\n\u001b[1;32m      1\u001b[0m \u001b[0;32mimport\u001b[0m \u001b[0mdatetime\u001b[0m\u001b[0;34m\u001b[0m\u001b[0;34m\u001b[0m\u001b[0m\n\u001b[1;32m      2\u001b[0m \u001b[0;32mimport\u001b[0m \u001b[0mmatplotlib\u001b[0m\u001b[0;34m.\u001b[0m\u001b[0mcolors\u001b[0m \u001b[0;32mas\u001b[0m \u001b[0mcolors\u001b[0m\u001b[0;34m\u001b[0m\u001b[0;34m\u001b[0m\u001b[0m\n\u001b[0;32m----> 3\u001b[0;31m \u001b[0;32mimport\u001b[0m \u001b[0mmatplotlib\u001b[0m\u001b[0;34m.\u001b[0m\u001b[0mfinance\u001b[0m \u001b[0;32mas\u001b[0m \u001b[0mfinance\u001b[0m\u001b[0;34m\u001b[0m\u001b[0;34m\u001b[0m\u001b[0m\n\u001b[0m\u001b[1;32m      4\u001b[0m \u001b[0;32mimport\u001b[0m \u001b[0mmatplotlib\u001b[0m\u001b[0;34m.\u001b[0m\u001b[0mdates\u001b[0m \u001b[0;32mas\u001b[0m \u001b[0mmdates\u001b[0m\u001b[0;34m\u001b[0m\u001b[0;34m\u001b[0m\u001b[0m\n\u001b[1;32m      5\u001b[0m \u001b[0;32mimport\u001b[0m \u001b[0mmatplotlib\u001b[0m\u001b[0;34m.\u001b[0m\u001b[0mticker\u001b[0m \u001b[0;32mas\u001b[0m \u001b[0mmticker\u001b[0m\u001b[0;34m\u001b[0m\u001b[0;34m\u001b[0m\u001b[0m\n",
      "\u001b[0;31mModuleNotFoundError\u001b[0m: No module named 'matplotlib.finance'"
     ]
    }
   ],
   "source": [
    "import datetime\n",
    "import matplotlib.colors as colors\n",
    "import matplotlib.finance as finance\n",
    "import matplotlib.dates as mdates\n",
    "import matplotlib.ticker as mticker\n",
    "import matplotlib.mlab as mlab\n",
    "import matplotlib.font_manager as font_manager\n",
    "\n",
    "\n",
    "startdate = datetime.date(2006, 1, 1)\n",
    "today = enddate = datetime.date.today()\n",
    "ticker = 'SPY'\n",
    "\n",
    "\n",
    "fh = finance.fetch_historical_yahoo(ticker, startdate, enddate)\n",
    "# a numpy record array with fields: date, open, high, low, close, volume, adj_close)\n",
    "\n",
    "\n",
    "r = mlab.csv2rec(fh)\n",
    "fh.close()\n",
    "r.sort()\n",
    "\n",
    "\n",
    "def moving_average(x, n, type='simple'):\n",
    "    \"\"\"\n",
    "    compute an n period moving average.\n",
    "\n",
    "    type is 'simple' | 'exponential'\n",
    "\n",
    "    \"\"\"\n",
    "    x = np.asarray(x)\n",
    "    if type == 'simple':\n",
    "        weights = np.ones(n)\n",
    "    else:\n",
    "        weights = np.exp(np.linspace(-1., 0., n))\n",
    "\n",
    "    weights /= weights.sum()\n",
    "\n",
    "    a = np.convolve(x, weights, mode='full')[:len(x)]\n",
    "    a[:n] = a[n]\n",
    "    return a\n",
    "\n",
    "\n",
    "def relative_strength(prices, n=14):\n",
    "    \"\"\"\n",
    "    compute the n period relative strength indicator\n",
    "    http://stockcharts.com/school/doku.php?id=chart_school:glossary_r#relativestrengthindex\n",
    "    http://www.investopedia.com/terms/r/rsi.asp\n",
    "    \"\"\"\n",
    "\n",
    "    deltas = np.diff(prices)\n",
    "    seed = deltas[:n+1]\n",
    "    up = seed[seed >= 0].sum()/n\n",
    "    down = -seed[seed < 0].sum()/n\n",
    "    rs = up/down\n",
    "    rsi = np.zeros_like(prices)\n",
    "    rsi[:n] = 100. - 100./(1. + rs)\n",
    "\n",
    "    for i in range(n, len(prices)):\n",
    "        delta = deltas[i - 1]  # cause the diff is 1 shorter\n",
    "\n",
    "        if delta > 0:\n",
    "            upval = delta\n",
    "            downval = 0.\n",
    "        else:\n",
    "            upval = 0.\n",
    "            downval = -delta\n",
    "\n",
    "        up = (up*(n - 1) + upval)/n\n",
    "        down = (down*(n - 1) + downval)/n\n",
    "\n",
    "        rs = up/down\n",
    "        rsi[i] = 100. - 100./(1. + rs)\n",
    "\n",
    "    return rsi\n",
    "\n",
    "\n",
    "def moving_average_convergence(x, nslow=26, nfast=12):\n",
    "    \"\"\"\n",
    "    compute the MACD (Moving Average Convergence/Divergence) using a fast and slow exponential moving avg'\n",
    "    return value is emaslow, emafast, macd which are len(x) arrays\n",
    "    \"\"\"\n",
    "    emaslow = moving_average(x, nslow, type='exponential')\n",
    "    emafast = moving_average(x, nfast, type='exponential')\n",
    "    return emaslow, emafast, emafast - emaslow\n",
    "\n",
    "\n",
    "plt.rc('axes', grid=True)\n",
    "plt.rc('grid', color='0.75', linestyle='-', linewidth=0.5)\n",
    "\n",
    "textsize = 9\n",
    "left, width = 0.1, 0.8\n",
    "rect1 = [left, 0.7, width, 0.2]\n",
    "rect2 = [left, 0.3, width, 0.4]\n",
    "rect3 = [left, 0.1, width, 0.2]\n",
    "\n",
    "\n",
    "fig = plt.figure(facecolor='white')\n",
    "axescolor = '#f6f6f6'  # the axes background color\n",
    "\n",
    "ax1 = fig.add_axes(rect1, axisbg=axescolor)  # left, bottom, width, height\n",
    "ax2 = fig.add_axes(rect2, axisbg=axescolor, sharex=ax1)\n",
    "ax2t = ax2.twinx()\n",
    "ax3 = fig.add_axes(rect3, axisbg=axescolor, sharex=ax1)\n",
    "\n",
    "\n",
    "# plot the relative strength indicator\n",
    "prices = r.adj_close\n",
    "rsi = relative_strength(prices)\n",
    "fillcolor = 'darkgoldenrod'\n",
    "\n",
    "ax1.plot(r.date, rsi, color=fillcolor)\n",
    "ax1.axhline(70, color=fillcolor)\n",
    "ax1.axhline(30, color=fillcolor)\n",
    "ax1.fill_between(r.date, rsi, 70, where=(rsi >= 70), facecolor=fillcolor, edgecolor=fillcolor)\n",
    "ax1.fill_between(r.date, rsi, 30, where=(rsi <= 30), facecolor=fillcolor, edgecolor=fillcolor)\n",
    "ax1.text(0.6, 0.9, '>70 = overbought', va='top', transform=ax1.transAxes, fontsize=textsize)\n",
    "ax1.text(0.6, 0.1, '<30 = oversold', transform=ax1.transAxes, fontsize=textsize)\n",
    "ax1.set_ylim(0, 100)\n",
    "ax1.set_yticks([30, 70])\n",
    "ax1.text(0.025, 0.95, 'RSI (14)', va='top', transform=ax1.transAxes, fontsize=textsize)\n",
    "ax1.set_title('%s daily' % ticker)\n",
    "\n",
    "# plot the price and volume data\n",
    "dx = r.adj_close - r.close\n",
    "low = r.low + dx\n",
    "high = r.high + dx\n",
    "\n",
    "deltas = np.zeros_like(prices)\n",
    "deltas[1:] = np.diff(prices)\n",
    "up = deltas > 0\n",
    "ax2.vlines(r.date[up], low[up], high[up], color='black', label='_nolegend_')\n",
    "ax2.vlines(r.date[~up], low[~up], high[~up], color='black', label='_nolegend_')\n",
    "ma20 = moving_average(prices, 20, type='simple')\n",
    "ma200 = moving_average(prices, 200, type='simple')\n",
    "\n",
    "linema20, = ax2.plot(r.date, ma20, color='blue', lw=2, label='MA (20)')\n",
    "linema200, = ax2.plot(r.date, ma200, color='red', lw=2, label='MA (200)')\n",
    "\n",
    "\n",
    "last = r[-1]\n",
    "s = '%s O:%1.2f H:%1.2f L:%1.2f C:%1.2f, V:%1.1fM Chg:%+1.2f' % (\n",
    "    today.strftime('%d-%b-%Y'),\n",
    "    last.open, last.high,\n",
    "    last.low, last.close,\n",
    "    last.volume*1e-6,\n",
    "    last.close - last.open)\n",
    "t4 = ax2.text(0.3, 0.9, s, transform=ax2.transAxes, fontsize=textsize)\n",
    "\n",
    "props = font_manager.FontProperties(size=10)\n",
    "leg = ax2.legend(loc='center left', shadow=True, fancybox=True, prop=props)\n",
    "leg.get_frame().set_alpha(0.5)\n",
    "\n",
    "\n",
    "volume = (r.close*r.volume)/1e6  # dollar volume in millions\n",
    "vmax = volume.max()\n",
    "poly = ax2t.fill_between(r.date, volume, 0, label='Volume', facecolor=fillcolor, edgecolor=fillcolor)\n",
    "ax2t.set_ylim(0, 5*vmax)\n",
    "ax2t.set_yticks([])\n",
    "\n",
    "\n",
    "# compute the MACD indicator\n",
    "fillcolor = 'darkslategrey'\n",
    "nslow = 26\n",
    "nfast = 12\n",
    "nema = 9\n",
    "emaslow, emafast, macd = moving_average_convergence(prices, nslow=nslow, nfast=nfast)\n",
    "ema9 = moving_average(macd, nema, type='exponential')\n",
    "ax3.plot(r.date, macd, color='black', lw=2)\n",
    "ax3.plot(r.date, ema9, color='blue', lw=1)\n",
    "ax3.fill_between(r.date, macd - ema9, 0, alpha=0.5, facecolor=fillcolor, edgecolor=fillcolor)\n",
    "\n",
    "\n",
    "ax3.text(0.025, 0.95, 'MACD (%d, %d, %d)' % (nfast, nslow, nema), va='top',\n",
    "         transform=ax3.transAxes, fontsize=textsize)\n",
    "\n",
    "#ax3.set_yticks([])\n",
    "# turn off upper axis tick labels, rotate the lower ones, etc\n",
    "for ax in ax1, ax2, ax2t, ax3:\n",
    "    if ax != ax3:\n",
    "        for label in ax.get_xticklabels():\n",
    "            label.set_visible(False)\n",
    "    else:\n",
    "        for label in ax.get_xticklabels():\n",
    "            label.set_rotation(30)\n",
    "            label.set_horizontalalignment('right')\n",
    "\n",
    "    ax.fmt_xdata = mdates.DateFormatter('%Y-%m-%d')\n",
    "\n",
    "\n",
    "class MyLocator(mticker.MaxNLocator):\n",
    "    def __init__(self, *args, **kwargs):\n",
    "        mticker.MaxNLocator.__init__(self, *args, **kwargs)\n",
    "\n",
    "    def __call__(self, *args, **kwargs):\n",
    "        return mticker.MaxNLocator.__call__(self, *args, **kwargs)\n",
    "\n",
    "# at most 5 ticks, pruning the upper and lower so they don't overlap\n",
    "# with other ticks\n",
    "#ax2.yaxis.set_major_locator(mticker.MaxNLocator(5, prune='both'))\n",
    "#ax3.yaxis.set_major_locator(mticker.MaxNLocator(5, prune='both'))\n",
    "\n",
    "ax2.yaxis.set_major_locator(MyLocator(5, prune='both'))\n",
    "ax3.yaxis.set_major_locator(MyLocator(5, prune='both'))\n",
    "\n",
    "plt.show()"
   ]
  },
  {
   "cell_type": "markdown",
   "metadata": {},
   "source": [
    "# Manipulate Arrays"
   ]
  },
  {
   "cell_type": "markdown",
   "metadata": {},
   "source": [
    "### Views and Copies"
   ]
  },
  {
   "cell_type": "code",
   "execution_count": 2,
   "metadata": {},
   "outputs": [],
   "source": [
    "import numpy as np"
   ]
  },
  {
   "cell_type": "code",
   "execution_count": 3,
   "metadata": {},
   "outputs": [],
   "source": [
    "mi_casa = np.array([-45, -31, -12, 0, 2, 25, 51, 99])"
   ]
  },
  {
   "cell_type": "code",
   "execution_count": 4,
   "metadata": {},
   "outputs": [],
   "source": [
    "su_casa=mi_casa"
   ]
  },
  {
   "cell_type": "code",
   "execution_count": 9,
   "metadata": {},
   "outputs": [
    {
     "data": {
      "text/plain": [
       "True"
      ]
     },
     "execution_count": 9,
     "metadata": {},
     "output_type": "execute_result"
    }
   ],
   "source": [
    "#reference equality\n",
    "mi_casa is su_casa"
   ]
  },
  {
   "cell_type": "code",
   "execution_count": 6,
   "metadata": {},
   "outputs": [
    {
     "data": {
      "text/plain": [
       "array([ True,  True,  True,  True,  True,  True,  True,  True])"
      ]
     },
     "execution_count": 6,
     "metadata": {},
     "output_type": "execute_result"
    }
   ],
   "source": [
    "#value inequality\n",
    "mi_casa == su_casa"
   ]
  },
  {
   "cell_type": "code",
   "execution_count": 7,
   "metadata": {},
   "outputs": [
    {
     "data": {
      "text/plain": [
       "4339677744"
      ]
     },
     "execution_count": 7,
     "metadata": {},
     "output_type": "execute_result"
    }
   ],
   "source": [
    "id(mi_casa)"
   ]
  },
  {
   "cell_type": "code",
   "execution_count": 8,
   "metadata": {},
   "outputs": [
    {
     "data": {
      "text/plain": [
       "True"
      ]
     },
     "execution_count": 8,
     "metadata": {},
     "output_type": "execute_result"
    }
   ],
   "source": [
    "id(mi_casa)== id(su_casa)"
   ]
  },
  {
   "cell_type": "code",
   "execution_count": 11,
   "metadata": {},
   "outputs": [
    {
     "data": {
      "text/plain": [
       "array([1286,  -31,  -12,    0,    2,   25,   51,   99])"
      ]
     },
     "execution_count": 11,
     "metadata": {},
     "output_type": "execute_result"
    }
   ],
   "source": [
    "mi_casa[0]=1286\n",
    "mi_casa"
   ]
  },
  {
   "cell_type": "code",
   "execution_count": 12,
   "metadata": {},
   "outputs": [
    {
     "data": {
      "text/plain": [
       "array([1286,  -31,  -12,    0,    2,   25,   51,   99])"
      ]
     },
     "execution_count": 12,
     "metadata": {},
     "output_type": "execute_result"
    }
   ],
   "source": [
    "su_casa"
   ]
  },
  {
   "cell_type": "code",
   "execution_count": 14,
   "metadata": {},
   "outputs": [
    {
     "data": {
      "text/plain": [
       "array([-45, -31, -12,   0,   2,  25,  51,  99])"
      ]
     },
     "execution_count": 14,
     "metadata": {},
     "output_type": "execute_result"
    }
   ],
   "source": [
    "tree_house = np.array([-45, -31, -12, 0, 2, 25, 51, 99])\n",
    "tree_house\n"
   ]
  },
  {
   "cell_type": "markdown",
   "metadata": {},
   "source": [
    "## View: a shallow copy"
   ]
  },
  {
   "cell_type": "code",
   "execution_count": 17,
   "metadata": {},
   "outputs": [
    {
     "data": {
      "text/plain": [
       "array([[-45, -31, -12,   0],\n",
       "       [  2,  25,  51,  99]])"
      ]
     },
     "execution_count": 17,
     "metadata": {},
     "output_type": "execute_result"
    }
   ],
   "source": [
    "farm_house = tree_house.view()\n",
    "farm_house.shape = (2,4)\n",
    "\n",
    "farm_house\n"
   ]
  },
  {
   "cell_type": "code",
   "execution_count": 19,
   "metadata": {},
   "outputs": [
    {
     "data": {
      "text/plain": [
       "array([-45, -31, -12, 101,   2,  25,  51,  99])"
      ]
     },
     "execution_count": 19,
     "metadata": {},
     "output_type": "execute_result"
    }
   ],
   "source": [
    "farm_house[0][3]=101\n",
    "tree_house"
   ]
  },
  {
   "cell_type": "code",
   "execution_count": 20,
   "metadata": {},
   "outputs": [
    {
     "data": {
      "text/plain": [
       "array([[-45, -31, -12, 101],\n",
       "       [806,  25,  51,  99]])"
      ]
     },
     "execution_count": 20,
     "metadata": {},
     "output_type": "execute_result"
    }
   ],
   "source": [
    "tree_house[4]=806\n",
    "farm_house"
   ]
  },
  {
   "cell_type": "markdown",
   "metadata": {},
   "source": [
    "## Deep Copy"
   ]
  },
  {
   "cell_type": "code",
   "execution_count": 21,
   "metadata": {},
   "outputs": [
    {
     "data": {
      "text/plain": [
       "array([-45, -31, -12, 101, 806,  25,  51,  99])"
      ]
     },
     "execution_count": 21,
     "metadata": {},
     "output_type": "execute_result"
    }
   ],
   "source": [
    "dog_house=np.copy(tree_house)\n",
    "dog_house[0]=444\n",
    "tree_house"
   ]
  },
  {
   "cell_type": "code",
   "execution_count": null,
   "metadata": {},
   "outputs": [],
   "source": []
  },
  {
   "cell_type": "markdown",
   "metadata": {},
   "source": [
    "### Attributes of NumPy Arrays\n",
    "- Number of dimensions\n",
    "- shape\n",
    "- size (number of elements)\n",
    "- data type for elements\n",
    "- item size for each element within an array\n",
    "- type (for the array; not for elements within array)"
   ]
  },
  {
   "cell_type": "code",
   "execution_count": 22,
   "metadata": {},
   "outputs": [
    {
     "data": {
      "text/plain": [
       "array([[[ 0,  1,  2,  3],\n",
       "        [ 4,  5,  6,  7],\n",
       "        [ 8,  9, 10, 11]],\n",
       "\n",
       "       [[12, 13, 14, 15],\n",
       "        [16, 17, 18, 19],\n",
       "        [20, 21, 22, 23]]])"
      ]
     },
     "execution_count": 22,
     "metadata": {},
     "output_type": "execute_result"
    }
   ],
   "source": [
    "a = np.arange(24).reshape((2,3,4))\n",
    "a"
   ]
  },
  {
   "cell_type": "code",
   "execution_count": 23,
   "metadata": {},
   "outputs": [
    {
     "data": {
      "text/plain": [
       "3"
      ]
     },
     "execution_count": 23,
     "metadata": {},
     "output_type": "execute_result"
    }
   ],
   "source": [
    "a.ndim"
   ]
  },
  {
   "cell_type": "code",
   "execution_count": 24,
   "metadata": {},
   "outputs": [
    {
     "data": {
      "text/plain": [
       "(2, 3, 4)"
      ]
     },
     "execution_count": 24,
     "metadata": {},
     "output_type": "execute_result"
    }
   ],
   "source": [
    "a.shape"
   ]
  },
  {
   "cell_type": "code",
   "execution_count": 25,
   "metadata": {},
   "outputs": [
    {
     "data": {
      "text/plain": [
       "24"
      ]
     },
     "execution_count": 25,
     "metadata": {},
     "output_type": "execute_result"
    }
   ],
   "source": [
    "a.size"
   ]
  },
  {
   "cell_type": "code",
   "execution_count": 26,
   "metadata": {},
   "outputs": [
    {
     "data": {
      "text/plain": [
       "dtype('int64')"
      ]
     },
     "execution_count": 26,
     "metadata": {},
     "output_type": "execute_result"
    }
   ],
   "source": [
    "a.dtype"
   ]
  },
  {
   "cell_type": "code",
   "execution_count": 27,
   "metadata": {},
   "outputs": [
    {
     "data": {
      "text/plain": [
       "8"
      ]
     },
     "execution_count": 27,
     "metadata": {},
     "output_type": "execute_result"
    }
   ],
   "source": [
    "a.itemsize"
   ]
  },
  {
   "cell_type": "code",
   "execution_count": 28,
   "metadata": {},
   "outputs": [
    {
     "data": {
      "text/plain": [
       "numpy.ndarray"
      ]
     },
     "execution_count": 28,
     "metadata": {},
     "output_type": "execute_result"
    }
   ],
   "source": [
    "type(a)"
   ]
  },
  {
   "cell_type": "markdown",
   "metadata": {},
   "source": [
    "# Adding and Removing Elements from NumPy Arrays\n",
    "- append\n",
    "- horizontal stacking\n",
    "- vertical stacking\n",
    "- insert\n",
    "- delete"
   ]
  },
  {
   "cell_type": "code",
   "execution_count": 29,
   "metadata": {},
   "outputs": [
    {
     "data": {
      "text/plain": [
       "array([[[ 0,  1,  2,  3],\n",
       "        [ 4,  5,  6,  7],\n",
       "        [ 8,  9, 10, 11]],\n",
       "\n",
       "       [[12, 13, 14, 15],\n",
       "        [16, 17, 18, 19],\n",
       "        [20, 21, 22, 23]]])"
      ]
     },
     "execution_count": 29,
     "metadata": {},
     "output_type": "execute_result"
    }
   ],
   "source": [
    "a = np.arange(24).reshape((2,3,4))\n",
    "a"
   ]
  },
  {
   "cell_type": "code",
   "execution_count": 33,
   "metadata": {},
   "outputs": [
    {
     "data": {
      "text/plain": [
       "array([[[ 0,  1,  2,  3],\n",
       "        [ 4,  5,  6,  7],\n",
       "        [ 8,  9, 10, 11]],\n",
       "\n",
       "       [[12, 13, 14, 15],\n",
       "        [16, 17, 18, 19],\n",
       "        [20, 21, 22, 23]]])"
      ]
     },
     "execution_count": 33,
     "metadata": {},
     "output_type": "execute_result"
    }
   ],
   "source": [
    "b=np.append(a, [5,6,7,8])\n",
    "a"
   ]
  },
  {
   "cell_type": "code",
   "execution_count": 35,
   "metadata": {},
   "outputs": [
    {
     "data": {
      "text/plain": [
       "array([ 0,  1,  2,  3,  4,  5,  6,  7,  8,  9, 10, 11, 12, 13, 14, 15, 16,\n",
       "       17, 18, 19, 20, 21, 22, 23,  5,  6,  7,  8])"
      ]
     },
     "execution_count": 35,
     "metadata": {},
     "output_type": "execute_result"
    }
   ],
   "source": [
    "b=np.append(a, [5,6,7,8])\n",
    "b"
   ]
  },
  {
   "cell_type": "code",
   "execution_count": 36,
   "metadata": {},
   "outputs": [
    {
     "data": {
      "text/plain": [
       "(28,)"
      ]
     },
     "execution_count": 36,
     "metadata": {},
     "output_type": "execute_result"
    }
   ],
   "source": [
    "b.shape"
   ]
  },
  {
   "cell_type": "code",
   "execution_count": 37,
   "metadata": {},
   "outputs": [
    {
     "data": {
      "text/plain": [
       "array([[ 0,  1,  2,  3],\n",
       "       [ 4,  5,  6,  7],\n",
       "       [ 8,  9, 10, 11],\n",
       "       [12, 13, 14, 15],\n",
       "       [16, 17, 18, 19],\n",
       "       [20, 21, 22, 23],\n",
       "       [ 5,  6,  7,  8]])"
      ]
     },
     "execution_count": 37,
     "metadata": {},
     "output_type": "execute_result"
    }
   ],
   "source": [
    "b.reshape(7,4)"
   ]
  },
  {
   "cell_type": "code",
   "execution_count": 38,
   "metadata": {},
   "outputs": [
    {
     "data": {
      "text/plain": [
       "array([[[ 0,  1,  2,  3,  4,  5,  6],\n",
       "        [ 7,  8,  9, 10, 11, 12, 13]],\n",
       "\n",
       "       [[14, 15, 16, 17, 18, 19, 20],\n",
       "        [21, 22, 23,  5,  6,  7,  8]]])"
      ]
     },
     "execution_count": 38,
     "metadata": {},
     "output_type": "execute_result"
    }
   ],
   "source": [
    "b.reshape(2,2,7)"
   ]
  },
  {
   "cell_type": "code",
   "execution_count": 39,
   "metadata": {},
   "outputs": [
    {
     "data": {
      "text/plain": [
       "array([[[  3,  13,  23,  33],\n",
       "        [ 43,  53,  63,  73],\n",
       "        [ 83,  93, 103, 113]],\n",
       "\n",
       "       [[123, 133, 143, 153],\n",
       "        [163, 173, 183, 193],\n",
       "        [203, 213, 223, 233]]])"
      ]
     },
     "execution_count": 39,
     "metadata": {},
     "output_type": "execute_result"
    }
   ],
   "source": [
    "c = np.array(np.arange(24)).reshape(2,3,4) * 10 + 3\n",
    "c"
   ]
  },
  {
   "cell_type": "code",
   "execution_count": 46,
   "metadata": {},
   "outputs": [
    {
     "data": {
      "text/plain": [
       "array([[[  0,   1,   2,   3,   3,  13,  23,  33],\n",
       "        [  4,   5,   6,   7,  43,  53,  63,  73],\n",
       "        [  8,   9,  10,  11,  83,  93, 103, 113]],\n",
       "\n",
       "       [[ 12,  13,  14,  15, 123, 133, 143, 153],\n",
       "        [ 16,  17,  18,  19, 163, 173, 183, 193],\n",
       "        [ 20,  21,  22,  23, 203, 213, 223, 233]]])"
      ]
     },
     "execution_count": 46,
     "metadata": {},
     "output_type": "execute_result"
    }
   ],
   "source": [
    "d=np.append(a,c,axis=2)\n",
    "d"
   ]
  },
  {
   "cell_type": "code",
   "execution_count": 41,
   "metadata": {},
   "outputs": [
    {
     "data": {
      "text/plain": [
       "(48,)"
      ]
     },
     "execution_count": 41,
     "metadata": {},
     "output_type": "execute_result"
    }
   ],
   "source": [
    "d.shape\n"
   ]
  },
  {
   "cell_type": "code",
   "execution_count": 47,
   "metadata": {},
   "outputs": [
    {
     "data": {
      "text/plain": [
       "array([[[  0,   1,   2,   3],\n",
       "        [  4,   5,   6,   7],\n",
       "        [  8,   9,  10,  11],\n",
       "        [  3,  13,  23,  33],\n",
       "        [ 43,  53,  63,  73],\n",
       "        [ 83,  93, 103, 113]],\n",
       "\n",
       "       [[ 12,  13,  14,  15],\n",
       "        [ 16,  17,  18,  19],\n",
       "        [ 20,  21,  22,  23],\n",
       "        [123, 133, 143, 153],\n",
       "        [163, 173, 183, 193],\n",
       "        [203, 213, 223, 233]]])"
      ]
     },
     "execution_count": 47,
     "metadata": {},
     "output_type": "execute_result"
    }
   ],
   "source": [
    "my_hay_stack = np.hstack((a,c))\n",
    "my_hay_stack"
   ]
  },
  {
   "cell_type": "code",
   "execution_count": 48,
   "metadata": {},
   "outputs": [
    {
     "data": {
      "text/plain": [
       "array([[[  0,   1, 999,   3],\n",
       "        [  4,   5,   6,   7],\n",
       "        [  8,   9,  10,  11],\n",
       "        [  3,  13,  23,  33],\n",
       "        [ 43,  53,  63,  73],\n",
       "        [ 83,  93, 103, 113]],\n",
       "\n",
       "       [[ 12,  13,  14,  15],\n",
       "        [ 16,  17,  18,  19],\n",
       "        [ 20,  21,  22,  23],\n",
       "        [123, 133, 143, 153],\n",
       "        [163, 173, 183, 193],\n",
       "        [203, 213, 223, 233]]])"
      ]
     },
     "execution_count": 48,
     "metadata": {},
     "output_type": "execute_result"
    }
   ],
   "source": [
    "my_hay_stack[0,0,2] = 999\n",
    "my_hay_stack"
   ]
  },
  {
   "cell_type": "code",
   "execution_count": 49,
   "metadata": {},
   "outputs": [
    {
     "data": {
      "text/plain": [
       "array([[[ 0,  1,  2,  3],\n",
       "        [ 4,  5,  6,  7],\n",
       "        [ 8,  9, 10, 11]],\n",
       "\n",
       "       [[12, 13, 14, 15],\n",
       "        [16, 17, 18, 19],\n",
       "        [20, 21, 22, 23]]])"
      ]
     },
     "execution_count": 49,
     "metadata": {},
     "output_type": "execute_result"
    }
   ],
   "source": [
    "a"
   ]
  },
  {
   "cell_type": "code",
   "execution_count": 50,
   "metadata": {},
   "outputs": [
    {
     "data": {
      "text/plain": [
       "array([[[  3,  13,  23,  33],\n",
       "        [ 43,  53,  63,  73],\n",
       "        [ 83,  93, 103, 113]],\n",
       "\n",
       "       [[123, 133, 143, 153],\n",
       "        [163, 173, 183, 193],\n",
       "        [203, 213, 223, 233]]])"
      ]
     },
     "execution_count": 50,
     "metadata": {},
     "output_type": "execute_result"
    }
   ],
   "source": [
    "c"
   ]
  },
  {
   "cell_type": "markdown",
   "metadata": {},
   "source": [
    "## Insert \n",
    "- visit for more information\n",
    "https://docs.scipy.org/doc/numpy/reference/generated/numpy.insert.html"
   ]
  },
  {
   "cell_type": "code",
   "execution_count": 51,
   "metadata": {},
   "outputs": [
    {
     "data": {
      "text/plain": [
       "array([[[  3,  13,  23,  33],\n",
       "        [ 43,  53,  63,  73],\n",
       "        [ 83,  93, 103, 113]],\n",
       "\n",
       "       [[444, 444, 444, 444],\n",
       "        [444, 444, 444, 444],\n",
       "        [444, 444, 444, 444]],\n",
       "\n",
       "       [[123, 133, 143, 153],\n",
       "        [163, 173, 183, 193],\n",
       "        [203, 213, 223, 233]]])"
      ]
     },
     "execution_count": 51,
     "metadata": {},
     "output_type": "execute_result"
    }
   ],
   "source": [
    "after_insert_array = np.insert (c, 1, 444, axis=0)\n",
    "after_insert_array"
   ]
  },
  {
   "cell_type": "code",
   "execution_count": 52,
   "metadata": {},
   "outputs": [
    {
     "data": {
      "text/plain": [
       "array([[[  3,  13,  23,  33],\n",
       "        [444, 444, 444, 444],\n",
       "        [ 43,  53,  63,  73],\n",
       "        [ 83,  93, 103, 113]],\n",
       "\n",
       "       [[123, 133, 143, 153],\n",
       "        [444, 444, 444, 444],\n",
       "        [163, 173, 183, 193],\n",
       "        [203, 213, 223, 233]]])"
      ]
     },
     "execution_count": 52,
     "metadata": {},
     "output_type": "execute_result"
    }
   ],
   "source": [
    "after_insert_array = np.insert (c, 1, 444, axis=1)\n",
    "after_insert_array"
   ]
  },
  {
   "cell_type": "code",
   "execution_count": 53,
   "metadata": {},
   "outputs": [
    {
     "data": {
      "text/plain": [
       "array([[[  3, 444,  13,  23,  33],\n",
       "        [ 43, 444,  53,  63,  73],\n",
       "        [ 83, 444,  93, 103, 113]],\n",
       "\n",
       "       [[123, 444, 133, 143, 153],\n",
       "        [163, 444, 173, 183, 193],\n",
       "        [203, 444, 213, 223, 233]]])"
      ]
     },
     "execution_count": 53,
     "metadata": {},
     "output_type": "execute_result"
    }
   ],
   "source": [
    "after_insert_array = np.insert (c, 1, 444, axis=2)\n",
    "after_insert_array"
   ]
  },
  {
   "cell_type": "code",
   "execution_count": 54,
   "metadata": {},
   "outputs": [
    {
     "data": {
      "text/plain": [
       "array([[[  3.,  13.,  23.,  33.],\n",
       "        [ 43.,  53.,  63.,  73.],\n",
       "        [ 83.,  93., 103., 113.]],\n",
       "\n",
       "       [[123., 133., 143., 153.],\n",
       "        [163., 173., 183., 193.],\n",
       "        [203., 213., 223., 233.]]])"
      ]
     },
     "execution_count": 54,
     "metadata": {},
     "output_type": "execute_result"
    }
   ],
   "source": [
    "d = np.empty(c.shape)\n",
    "np.copyto(d, c)\n",
    "d"
   ]
  },
  {
   "cell_type": "code",
   "execution_count": 55,
   "metadata": {},
   "outputs": [
    {
     "data": {
      "text/plain": [
       "array([[[  3.,  13.,  23.,  33.],\n",
       "        [ 43.,  53.,  63.,  73.],\n",
       "        [ 83.,  93., 103., 113.]]])"
      ]
     },
     "execution_count": 55,
     "metadata": {},
     "output_type": "execute_result"
    }
   ],
   "source": [
    "np.delete(d, 1, axis=0)"
   ]
  },
  {
   "cell_type": "code",
   "execution_count": 56,
   "metadata": {},
   "outputs": [
    {
     "data": {
      "text/plain": [
       "array([[[  3.,  13.,  23.,  33.],\n",
       "        [ 83.,  93., 103., 113.]],\n",
       "\n",
       "       [[123., 133., 143., 153.],\n",
       "        [203., 213., 223., 233.]]])"
      ]
     },
     "execution_count": 56,
     "metadata": {},
     "output_type": "execute_result"
    }
   ],
   "source": [
    "np.delete(d, 1, axis=1)"
   ]
  },
  {
   "cell_type": "code",
   "execution_count": 57,
   "metadata": {},
   "outputs": [
    {
     "data": {
      "text/plain": [
       "array([[[  3.,  23.,  33.],\n",
       "        [ 43.,  63.,  73.],\n",
       "        [ 83., 103., 113.]],\n",
       "\n",
       "       [[123., 143., 153.],\n",
       "        [163., 183., 193.],\n",
       "        [203., 223., 233.]]])"
      ]
     },
     "execution_count": 57,
     "metadata": {},
     "output_type": "execute_result"
    }
   ],
   "source": [
    "np.delete(d, 1, axis=2)"
   ]
  },
  {
   "cell_type": "markdown",
   "metadata": {},
   "source": [
    "# Joining and Splitting Arrays\n",
    "- concatenate\n",
    "- stack\n",
    "- split\n"
   ]
  },
  {
   "cell_type": "code",
   "execution_count": 1,
   "metadata": {},
   "outputs": [],
   "source": [
    "import numpy as np"
   ]
  },
  {
   "cell_type": "markdown",
   "metadata": {},
   "source": [
    "### concatenate\n",
    "documentation: http://docs.scipy.org/doc/numpy/reference/generated/numpy.concatenate.html"
   ]
  },
  {
   "cell_type": "code",
   "execution_count": 2,
   "metadata": {},
   "outputs": [
    {
     "data": {
      "text/plain": [
       "array([[1, 2],\n",
       "       [3, 4]])"
      ]
     },
     "execution_count": 2,
     "metadata": {},
     "output_type": "execute_result"
    }
   ],
   "source": [
    "a=np.array([[1,2], [3,4]])\n",
    "b=np.array([5,6])\n",
    "a"
   ]
  },
  {
   "cell_type": "code",
   "execution_count": 7,
   "metadata": {},
   "outputs": [
    {
     "data": {
      "text/plain": [
       "array([[5, 6],\n",
       "       [7, 8]])"
      ]
     },
     "execution_count": 7,
     "metadata": {},
     "output_type": "execute_result"
    }
   ],
   "source": [
    "b=np.array([[5,6],[7,8]])\n",
    "b"
   ]
  },
  {
   "cell_type": "code",
   "execution_count": 14,
   "metadata": {},
   "outputs": [
    {
     "data": {
      "text/plain": [
       "array([[1, 2],\n",
       "       [3, 4],\n",
       "       [5, 6],\n",
       "       [7, 8]])"
      ]
     },
     "execution_count": 14,
     "metadata": {},
     "output_type": "execute_result"
    }
   ],
   "source": [
    "together=np.concatenate((a,b), axis=0)\n",
    "together"
   ]
  },
  {
   "cell_type": "markdown",
   "metadata": {},
   "source": [
    "### stack\n",
    "documentation: https://docs.scipy.org/doc/numpy/reference/generated/numpy.stack.html#numpy.stack"
   ]
  },
  {
   "cell_type": "code",
   "execution_count": 16,
   "metadata": {},
   "outputs": [
    {
     "data": {
      "text/plain": [
       "array([[[-0.78217631,  2.18874921, -0.12506602, -0.96957852],\n",
       "        [-0.28423679, -0.45149139, -0.1989685 , -0.61383996],\n",
       "        [-1.34404854,  1.29373625,  1.36992112,  0.11085126]],\n",
       "\n",
       "       [[-1.1278861 ,  0.21659075,  1.58024991, -2.25522003],\n",
       "        [ 0.7709328 , -0.31824973,  0.44466649,  0.75550166],\n",
       "        [ 0.45961354, -0.40355382,  0.19926366,  2.07076956]],\n",
       "\n",
       "       [[ 0.57731147, -0.51871555, -0.02856831,  0.73125182],\n",
       "        [-0.37986241, -0.719352  , -0.31785126, -0.10442523],\n",
       "        [ 1.25967259,  0.66375115, -0.61323257, -0.9025113 ]],\n",
       "\n",
       "       [[-0.79617482, -0.27394064,  0.78974186, -0.34605398],\n",
       "        [-0.15411495,  1.82199058,  0.72864444,  0.76374675],\n",
       "        [-0.44346563, -0.91380082,  1.22277413,  0.6921588 ]],\n",
       "\n",
       "       [[-0.59182848,  1.58292553,  1.14428676,  0.10700302],\n",
       "        [-0.62432195,  0.51522894, -1.4519584 ,  0.66061865],\n",
       "        [-0.23186754,  1.46023891, -0.46425015,  0.27155484]]])"
      ]
     },
     "execution_count": 16,
     "metadata": {},
     "output_type": "execute_result"
    }
   ],
   "source": [
    "arrays = np.zeros((5,3,4))\n",
    "for n in range(5):\n",
    "    arrays[n] = np.random.randn(3, 4)\n",
    "    \n",
    "arrays"
   ]
  },
  {
   "cell_type": "code",
   "execution_count": 24,
   "metadata": {},
   "outputs": [],
   "source": [
    "stack0 = np.stack(arrays, axis=0)\n",
    "stack1 = np.stack(arrays, axis=1)\n",
    "stack2 = np.stack(arrays, axis=2)"
   ]
  },
  {
   "cell_type": "code",
   "execution_count": 25,
   "metadata": {},
   "outputs": [
    {
     "data": {
      "text/plain": [
       "array([[5, 3, 4],\n",
       "       [3, 5, 4],\n",
       "       [3, 4, 5]])"
      ]
     },
     "execution_count": 25,
     "metadata": {},
     "output_type": "execute_result"
    }
   ],
   "source": [
    "my_stacks=np.array([stack0.shape, stack1.shape, stack2.shape])\n",
    "my_stacks"
   ]
  },
  {
   "cell_type": "markdown",
   "metadata": {},
   "source": [
    "### split\n",
    "for information, please see: http://docs.scipy.org/doc/numpy/reference/generated/numpy.split.html"
   ]
  },
  {
   "cell_type": "code",
   "execution_count": 26,
   "metadata": {},
   "outputs": [
    {
     "data": {
      "text/plain": [
       "[array([0, 1, 2, 3, 4])]"
      ]
     },
     "execution_count": 26,
     "metadata": {},
     "output_type": "execute_result"
    }
   ],
   "source": [
    "temp = np.arange(5)\n",
    "np.split(temp,1)"
   ]
  },
  {
   "cell_type": "code",
   "execution_count": 27,
   "metadata": {},
   "outputs": [
    {
     "data": {
      "text/plain": [
       "(5, 3, 4)"
      ]
     },
     "execution_count": 27,
     "metadata": {},
     "output_type": "execute_result"
    }
   ],
   "source": [
    "before_split = stack0\n",
    "before_split.shape"
   ]
  },
  {
   "cell_type": "code",
   "execution_count": 28,
   "metadata": {},
   "outputs": [
    {
     "data": {
      "text/plain": [
       "array([[[-0.78217631,  2.18874921, -0.12506602, -0.96957852],\n",
       "        [-0.28423679, -0.45149139, -0.1989685 , -0.61383996],\n",
       "        [-1.34404854,  1.29373625,  1.36992112,  0.11085126]],\n",
       "\n",
       "       [[-1.1278861 ,  0.21659075,  1.58024991, -2.25522003],\n",
       "        [ 0.7709328 , -0.31824973,  0.44466649,  0.75550166],\n",
       "        [ 0.45961354, -0.40355382,  0.19926366,  2.07076956]],\n",
       "\n",
       "       [[ 0.57731147, -0.51871555, -0.02856831,  0.73125182],\n",
       "        [-0.37986241, -0.719352  , -0.31785126, -0.10442523],\n",
       "        [ 1.25967259,  0.66375115, -0.61323257, -0.9025113 ]],\n",
       "\n",
       "       [[-0.79617482, -0.27394064,  0.78974186, -0.34605398],\n",
       "        [-0.15411495,  1.82199058,  0.72864444,  0.76374675],\n",
       "        [-0.44346563, -0.91380082,  1.22277413,  0.6921588 ]],\n",
       "\n",
       "       [[-0.59182848,  1.58292553,  1.14428676,  0.10700302],\n",
       "        [-0.62432195,  0.51522894, -1.4519584 ,  0.66061865],\n",
       "        [-0.23186754,  1.46023891, -0.46425015,  0.27155484]]])"
      ]
     },
     "execution_count": 28,
     "metadata": {},
     "output_type": "execute_result"
    }
   ],
   "source": [
    "before_split"
   ]
  },
  {
   "cell_type": "code",
   "execution_count": 37,
   "metadata": {},
   "outputs": [
    {
     "data": {
      "text/plain": [
       "[array([[[-0.78217631],\n",
       "         [-0.28423679],\n",
       "         [-1.34404854]],\n",
       " \n",
       "        [[-1.1278861 ],\n",
       "         [ 0.7709328 ],\n",
       "         [ 0.45961354]],\n",
       " \n",
       "        [[ 0.57731147],\n",
       "         [-0.37986241],\n",
       "         [ 1.25967259]],\n",
       " \n",
       "        [[-0.79617482],\n",
       "         [-0.15411495],\n",
       "         [-0.44346563]],\n",
       " \n",
       "        [[-0.59182848],\n",
       "         [-0.62432195],\n",
       "         [-0.23186754]]]),\n",
       " array([[[ 2.18874921],\n",
       "         [-0.45149139],\n",
       "         [ 1.29373625]],\n",
       " \n",
       "        [[ 0.21659075],\n",
       "         [-0.31824973],\n",
       "         [-0.40355382]],\n",
       " \n",
       "        [[-0.51871555],\n",
       "         [-0.719352  ],\n",
       "         [ 0.66375115]],\n",
       " \n",
       "        [[-0.27394064],\n",
       "         [ 1.82199058],\n",
       "         [-0.91380082]],\n",
       " \n",
       "        [[ 1.58292553],\n",
       "         [ 0.51522894],\n",
       "         [ 1.46023891]]]),\n",
       " array([[[-0.12506602],\n",
       "         [-0.1989685 ],\n",
       "         [ 1.36992112]],\n",
       " \n",
       "        [[ 1.58024991],\n",
       "         [ 0.44466649],\n",
       "         [ 0.19926366]],\n",
       " \n",
       "        [[-0.02856831],\n",
       "         [-0.31785126],\n",
       "         [-0.61323257]],\n",
       " \n",
       "        [[ 0.78974186],\n",
       "         [ 0.72864444],\n",
       "         [ 1.22277413]],\n",
       " \n",
       "        [[ 1.14428676],\n",
       "         [-1.4519584 ],\n",
       "         [-0.46425015]]]),\n",
       " array([[[-0.96957852],\n",
       "         [-0.61383996],\n",
       "         [ 0.11085126]],\n",
       " \n",
       "        [[-2.25522003],\n",
       "         [ 0.75550166],\n",
       "         [ 2.07076956]],\n",
       " \n",
       "        [[ 0.73125182],\n",
       "         [-0.10442523],\n",
       "         [-0.9025113 ]],\n",
       " \n",
       "        [[-0.34605398],\n",
       "         [ 0.76374675],\n",
       "         [ 0.6921588 ]],\n",
       " \n",
       "        [[ 0.10700302],\n",
       "         [ 0.66061865],\n",
       "         [ 0.27155484]]])]"
      ]
     },
     "execution_count": 37,
     "metadata": {},
     "output_type": "execute_result"
    }
   ],
   "source": [
    "s0=np.split (before_split, 4, axis=2)\n",
    "s0"
   ]
  },
  {
   "cell_type": "markdown",
   "metadata": {},
   "source": [
    "# Array Shape Manipulation"
   ]
  },
  {
   "cell_type": "markdown",
   "metadata": {},
   "source": [
    "### reshape\n",
    "from: http://docs.scipy.org/doc/numpy/reference/generated/numpy.reshape.html#numpy.reshape\n",
    "\n",
    "NOTE: This will be a new view object if possible; otherwise, it will be a copy."
   ]
  },
  {
   "cell_type": "code",
   "execution_count": 38,
   "metadata": {},
   "outputs": [
    {
     "data": {
      "text/plain": [
       "array([ 0,  1,  2,  3,  4,  5,  6,  7,  8,  9, 10, 11, 12, 13, 14, 15, 16,\n",
       "       17, 18, 19, 20, 21, 22, 23])"
      ]
     },
     "execution_count": 38,
     "metadata": {},
     "output_type": "execute_result"
    }
   ],
   "source": [
    "my_start_array = np.array(np.arange(24))\n",
    "my_start_array"
   ]
  },
  {
   "cell_type": "code",
   "execution_count": 39,
   "metadata": {},
   "outputs": [
    {
     "data": {
      "text/plain": [
       "array([[ 0,  1,  2,  3,  4,  5,  6,  7],\n",
       "       [ 8,  9, 10, 11, 12, 13, 14, 15],\n",
       "       [16, 17, 18, 19, 20, 21, 22, 23]])"
      ]
     },
     "execution_count": 39,
     "metadata": {},
     "output_type": "execute_result"
    }
   ],
   "source": [
    "reshaped_array=my_start_array.reshape((3,8))\n",
    "reshaped_array"
   ]
  },
  {
   "cell_type": "code",
   "execution_count": 41,
   "metadata": {},
   "outputs": [
    {
     "data": {
      "text/plain": [
       "array([1234,    1,    2,    3,    4,    5,    6,    7,    8,    9,   10,\n",
       "         11,   12,   13,   14,   15,   16,   17,   18,   19,   20,   21,\n",
       "         22,   23])"
      ]
     },
     "execution_count": 41,
     "metadata": {},
     "output_type": "execute_result"
    }
   ],
   "source": [
    "reshaped_array[0,0] = 1234\n",
    "my_start_array # reshape is the view object of my_start_array not the copy object"
   ]
  },
  {
   "cell_type": "code",
   "execution_count": 42,
   "metadata": {},
   "outputs": [
    {
     "data": {
      "text/plain": [
       "array([1234,    1,    2,    3,    4,    5,    6,    7,    8,    9,   10,\n",
       "         11,   12,   13,   14,   15,   16,   17,   18,   19,   20,   21,\n",
       "         22,   23])"
      ]
     },
     "execution_count": 42,
     "metadata": {},
     "output_type": "execute_result"
    }
   ],
   "source": [
    "my_ravel_array = reshaped_array.ravel() # ravel returns array of (array.size,) shape, while flatten returns iterator\n",
    "my_ravel_array"
   ]
  },
  {
   "cell_type": "code",
   "execution_count": 45,
   "metadata": {},
   "outputs": [
    {
     "data": {
      "text/plain": [
       "24"
      ]
     },
     "execution_count": 45,
     "metadata": {},
     "output_type": "execute_result"
    }
   ],
   "source": [
    "my_ravel_array.size"
   ]
  },
  {
   "cell_type": "code",
   "execution_count": 47,
   "metadata": {},
   "outputs": [
    {
     "name": "stdout",
     "output_type": "stream",
     "text": [
      "1234\n",
      "1\n",
      "2\n",
      "3\n",
      "4\n",
      "5\n",
      "6\n",
      "7\n",
      "8\n",
      "9\n",
      "10\n",
      "11\n",
      "12\n",
      "13\n",
      "14\n",
      "15\n",
      "16\n",
      "17\n",
      "18\n",
      "19\n",
      "20\n",
      "21\n",
      "22\n",
      "23\n"
     ]
    }
   ],
   "source": [
    "for n in reshaped_array.flat:\n",
    "    print(n)"
   ]
  },
  {
   "cell_type": "markdown",
   "metadata": {},
   "source": [
    "# Rearranging Array Elements"
   ]
  },
  {
   "cell_type": "markdown",
   "metadata": {},
   "source": [
    "### fliplr \"flip left right\"\n",
    "from: http://docs.scipy.org/doc/numpy/reference/generated/numpy.fliplr.html#numpy.fliplr\n",
    "\n",
    "Flip array in the left/right direction."
   ]
  },
  {
   "cell_type": "code",
   "execution_count": 48,
   "metadata": {},
   "outputs": [],
   "source": [
    "import numpy as np\n",
    "my_start_array = np.array(np.arange(24))\n",
    "my_3_8_array = my_start_array.reshape((3,8))\n",
    "my_2_3_4_array = my_3_8_array.reshape((2,3,4))"
   ]
  },
  {
   "cell_type": "code",
   "execution_count": 49,
   "metadata": {},
   "outputs": [
    {
     "data": {
      "text/plain": [
       "array([[ 0,  1,  2,  3,  4,  5,  6,  7],\n",
       "       [ 8,  9, 10, 11, 12, 13, 14, 15],\n",
       "       [16, 17, 18, 19, 20, 21, 22, 23]])"
      ]
     },
     "execution_count": 49,
     "metadata": {},
     "output_type": "execute_result"
    }
   ],
   "source": [
    "my_3_8_array"
   ]
  },
  {
   "cell_type": "code",
   "execution_count": 50,
   "metadata": {},
   "outputs": [
    {
     "data": {
      "text/plain": [
       "array([[ 7,  6,  5,  4,  3,  2,  1,  0],\n",
       "       [15, 14, 13, 12, 11, 10,  9,  8],\n",
       "       [23, 22, 21, 20, 19, 18, 17, 16]])"
      ]
     },
     "execution_count": 50,
     "metadata": {},
     "output_type": "execute_result"
    }
   ],
   "source": [
    "np.fliplr(my_3_8_array)"
   ]
  },
  {
   "cell_type": "code",
   "execution_count": 51,
   "metadata": {},
   "outputs": [
    {
     "data": {
      "text/plain": [
       "array([[16, 17, 18, 19, 20, 21, 22, 23],\n",
       "       [ 8,  9, 10, 11, 12, 13, 14, 15],\n",
       "       [ 0,  1,  2,  3,  4,  5,  6,  7]])"
      ]
     },
     "execution_count": 51,
     "metadata": {},
     "output_type": "execute_result"
    }
   ],
   "source": [
    "np.flipud(my_3_8_array)"
   ]
  },
  {
   "cell_type": "code",
   "execution_count": 52,
   "metadata": {},
   "outputs": [
    {
     "data": {
      "text/plain": [
       "array([[[ 0,  1,  2,  3],\n",
       "        [ 4,  5,  6,  7],\n",
       "        [ 8,  9, 10, 11]],\n",
       "\n",
       "       [[12, 13, 14, 15],\n",
       "        [16, 17, 18, 19],\n",
       "        [20, 21, 22, 23]]])"
      ]
     },
     "execution_count": 52,
     "metadata": {},
     "output_type": "execute_result"
    }
   ],
   "source": [
    "my_2_3_4_array = my_3_8_array.reshape((2,3,4))\n",
    "my_2_3_4_array"
   ]
  },
  {
   "cell_type": "code",
   "execution_count": 53,
   "metadata": {},
   "outputs": [
    {
     "data": {
      "text/plain": [
       "array([[[ 8,  9, 10, 11],\n",
       "        [ 4,  5,  6,  7],\n",
       "        [ 0,  1,  2,  3]],\n",
       "\n",
       "       [[20, 21, 22, 23],\n",
       "        [16, 17, 18, 19],\n",
       "        [12, 13, 14, 15]]])"
      ]
     },
     "execution_count": 53,
     "metadata": {},
     "output_type": "execute_result"
    }
   ],
   "source": [
    "np.fliplr(my_2_3_4_array)"
   ]
  },
  {
   "cell_type": "code",
   "execution_count": 54,
   "metadata": {},
   "outputs": [
    {
     "data": {
      "text/plain": [
       "array([[[12, 13, 14, 15],\n",
       "        [16, 17, 18, 19],\n",
       "        [20, 21, 22, 23]],\n",
       "\n",
       "       [[ 0,  1,  2,  3],\n",
       "        [ 4,  5,  6,  7],\n",
       "        [ 8,  9, 10, 11]]])"
      ]
     },
     "execution_count": 54,
     "metadata": {},
     "output_type": "execute_result"
    }
   ],
   "source": [
    "np.flipud(my_2_3_4_array)"
   ]
  },
  {
   "cell_type": "code",
   "execution_count": 55,
   "metadata": {},
   "outputs": [
    {
     "data": {
      "text/plain": [
       "array([ 0,  1,  2,  3,  4,  5,  6,  7,  8,  9, 10, 11, 12, 13, 14, 15, 16,\n",
       "       17, 18, 19, 20, 21, 22, 23])"
      ]
     },
     "execution_count": 55,
     "metadata": {},
     "output_type": "execute_result"
    }
   ],
   "source": [
    "my_start_array"
   ]
  },
  {
   "cell_type": "code",
   "execution_count": 56,
   "metadata": {},
   "outputs": [
    {
     "data": {
      "text/plain": [
       "array([21, 22, 23,  0,  1,  2,  3,  4,  5,  6,  7,  8,  9, 10, 11, 12, 13,\n",
       "       14, 15, 16, 17, 18, 19, 20])"
      ]
     },
     "execution_count": 56,
     "metadata": {},
     "output_type": "execute_result"
    }
   ],
   "source": [
    "np.roll(my_start_array, 3) # -ve will roll in clockwise direction"
   ]
  },
  {
   "cell_type": "code",
   "execution_count": 57,
   "metadata": {},
   "outputs": [
    {
     "data": {
      "text/plain": [
       "array([[[ 0,  1,  2,  3],\n",
       "        [ 4,  5,  6,  7],\n",
       "        [ 8,  9, 10, 11]],\n",
       "\n",
       "       [[12, 13, 14, 15],\n",
       "        [16, 17, 18, 19],\n",
       "        [20, 21, 22, 23]]])"
      ]
     },
     "execution_count": 57,
     "metadata": {},
     "output_type": "execute_result"
    }
   ],
   "source": [
    "my_2_3_4_array"
   ]
  },
  {
   "cell_type": "code",
   "execution_count": 59,
   "metadata": {},
   "outputs": [
    {
     "data": {
      "text/plain": [
       "array([[[ 5,  6,  7,  8],\n",
       "        [ 9, 10, 11, 12],\n",
       "        [13, 14, 15, 16]],\n",
       "\n",
       "       [[17, 18, 19, 20],\n",
       "        [21, 22, 23,  0],\n",
       "        [ 1,  2,  3,  4]]])"
      ]
     },
     "execution_count": 59,
     "metadata": {},
     "output_type": "execute_result"
    }
   ],
   "source": [
    "np.roll(my_2_3_4_array, -5)"
   ]
  },
  {
   "cell_type": "code",
   "execution_count": 60,
   "metadata": {},
   "outputs": [
    {
     "data": {
      "text/plain": [
       "array([[ 0,  1,  2,  3,  4,  5,  6,  7],\n",
       "       [ 8,  9, 10, 11, 12, 13, 14, 15],\n",
       "       [16, 17, 18, 19, 20, 21, 22, 23]])"
      ]
     },
     "execution_count": 60,
     "metadata": {},
     "output_type": "execute_result"
    }
   ],
   "source": [
    "my_3_8_array"
   ]
  },
  {
   "cell_type": "code",
   "execution_count": 66,
   "metadata": {},
   "outputs": [
    {
     "data": {
      "text/plain": [
       "array([[16,  8,  0],\n",
       "       [17,  9,  1],\n",
       "       [18, 10,  2],\n",
       "       [19, 11,  3],\n",
       "       [20, 12,  4],\n",
       "       [21, 13,  5],\n",
       "       [22, 14,  6],\n",
       "       [23, 15,  7]])"
      ]
     },
     "execution_count": 66,
     "metadata": {},
     "output_type": "execute_result"
    }
   ],
   "source": [
    "np.rot90(my_3_8_array, k=-1)"
   ]
  },
  {
   "cell_type": "markdown",
   "metadata": {},
   "source": [
    "# Transpose-like Operations\n",
    "- transpose\n",
    "- swapaxes\n",
    "- rollaxes"
   ]
  },
  {
   "cell_type": "code",
   "execution_count": 67,
   "metadata": {},
   "outputs": [],
   "source": [
    "my_start_array = np.array(np.arange(24))\n",
    "my_3_8_array = my_start_array.reshape((3,8))\n",
    "my_2_3_4_array = my_3_8_array.reshape((2,3,4))"
   ]
  },
  {
   "cell_type": "markdown",
   "metadata": {},
   "source": [
    "### transpose\n",
    "for more information, please see: http://docs.scipy.org/doc/numpy/reference/generated/numpy.transpose.html\n",
    "\n",
    "1-Dimension, no change"
   ]
  },
  {
   "cell_type": "code",
   "execution_count": 68,
   "metadata": {},
   "outputs": [
    {
     "data": {
      "text/plain": [
       "array([[ 0,  1,  2,  3,  4,  5,  6,  7],\n",
       "       [ 8,  9, 10, 11, 12, 13, 14, 15],\n",
       "       [16, 17, 18, 19, 20, 21, 22, 23]])"
      ]
     },
     "execution_count": 68,
     "metadata": {},
     "output_type": "execute_result"
    }
   ],
   "source": [
    "my_3_8_array"
   ]
  },
  {
   "cell_type": "code",
   "execution_count": 69,
   "metadata": {},
   "outputs": [
    {
     "data": {
      "text/plain": [
       "array([[ 0,  8, 16],\n",
       "       [ 1,  9, 17],\n",
       "       [ 2, 10, 18],\n",
       "       [ 3, 11, 19],\n",
       "       [ 4, 12, 20],\n",
       "       [ 5, 13, 21],\n",
       "       [ 6, 14, 22],\n",
       "       [ 7, 15, 23]])"
      ]
     },
     "execution_count": 69,
     "metadata": {},
     "output_type": "execute_result"
    }
   ],
   "source": [
    "np.transpose(my_3_8_array) "
   ]
  },
  {
   "cell_type": "code",
   "execution_count": 70,
   "metadata": {},
   "outputs": [
    {
     "data": {
      "text/plain": [
       "array([[ 0,  8, 16],\n",
       "       [ 1,  9, 17],\n",
       "       [ 2, 10, 18],\n",
       "       [ 3, 11, 19],\n",
       "       [ 4, 12, 20],\n",
       "       [ 5, 13, 21],\n",
       "       [ 6, 14, 22],\n",
       "       [ 7, 15, 23]])"
      ]
     },
     "execution_count": 70,
     "metadata": {},
     "output_type": "execute_result"
    }
   ],
   "source": [
    "my_3_8_array.T"
   ]
  },
  {
   "cell_type": "markdown",
   "metadata": {},
   "source": [
    "##### 3-Dimensions or more,\n",
    "use 'axes' parameter"
   ]
  },
  {
   "cell_type": "code",
   "execution_count": 71,
   "metadata": {},
   "outputs": [
    {
     "data": {
      "text/plain": [
       "array([[[ 0,  1,  2,  3],\n",
       "        [ 4,  5,  6,  7],\n",
       "        [ 8,  9, 10, 11]],\n",
       "\n",
       "       [[12, 13, 14, 15],\n",
       "        [16, 17, 18, 19],\n",
       "        [20, 21, 22, 23]]])"
      ]
     },
     "execution_count": 71,
     "metadata": {},
     "output_type": "execute_result"
    }
   ],
   "source": [
    "my_2_3_4_array"
   ]
  },
  {
   "cell_type": "code",
   "execution_count": 74,
   "metadata": {},
   "outputs": [
    {
     "data": {
      "text/plain": [
       "array([[[ 0,  4,  8],\n",
       "        [ 1,  5,  9],\n",
       "        [ 2,  6, 10],\n",
       "        [ 3,  7, 11]],\n",
       "\n",
       "       [[12, 16, 20],\n",
       "        [13, 17, 21],\n",
       "        [14, 18, 22],\n",
       "        [15, 19, 23]]])"
      ]
     },
     "execution_count": 74,
     "metadata": {},
     "output_type": "execute_result"
    }
   ],
   "source": [
    "np.transpose(my_2_3_4_array, axes=(0,2,1))"
   ]
  },
  {
   "cell_type": "markdown",
   "metadata": {},
   "source": [
    "### swapaxes\n",
    "from: http://docs.scipy.org/doc/numpy/reference/generated/numpy.swapaxes.html#numpy.swapaxes\n",
    "\n",
    "##### returns\n",
    "For Numpy >= 1.10, if a is an ndarray, then a view of a is returned; otherwise a new array is created. For earlier Numpy versions a view of a is returned only if the order of the axes is changed, otherwise the input array is returned."
   ]
  },
  {
   "cell_type": "code",
   "execution_count": 76,
   "metadata": {},
   "outputs": [
    {
     "data": {
      "text/plain": [
       "array([[[ 0,  1,  2,  3],\n",
       "        [12, 13, 14, 15]],\n",
       "\n",
       "       [[ 4,  5,  6,  7],\n",
       "        [16, 17, 18, 19]],\n",
       "\n",
       "       [[ 8,  9, 10, 11],\n",
       "        [20, 21, 22, 23]]])"
      ]
     },
     "execution_count": 76,
     "metadata": {},
     "output_type": "execute_result"
    }
   ],
   "source": [
    "swaped =np.swapaxes(my_2_3_4_array, 1, 0)\n",
    "swaped"
   ]
  },
  {
   "cell_type": "code",
   "execution_count": 1,
   "metadata": {},
   "outputs": [
    {
     "ename": "NameError",
     "evalue": "name 'swaped' is not defined",
     "output_type": "error",
     "traceback": [
      "\u001b[0;31m---------------------------------------------------------------------------\u001b[0m",
      "\u001b[0;31mNameError\u001b[0m                                 Traceback (most recent call last)",
      "\u001b[0;32m<ipython-input-1-5f03f213250c>\u001b[0m in \u001b[0;36m<module>\u001b[0;34m\u001b[0m\n\u001b[0;32m----> 1\u001b[0;31m \u001b[0mswaped\u001b[0m\u001b[0;34m.\u001b[0m\u001b[0mshape\u001b[0m\u001b[0;34m\u001b[0m\u001b[0;34m\u001b[0m\u001b[0m\n\u001b[0m",
      "\u001b[0;31mNameError\u001b[0m: name 'swaped' is not defined"
     ]
    }
   ],
   "source": [
    "swaped.shape"
   ]
  },
  {
   "cell_type": "code",
   "execution_count": 78,
   "metadata": {},
   "outputs": [
    {
     "data": {
      "text/plain": [
       "(2, 3, 4)"
      ]
     },
     "execution_count": 78,
     "metadata": {},
     "output_type": "execute_result"
    }
   ],
   "source": [
    "my_2_3_4_array.shape"
   ]
  },
  {
   "cell_type": "code",
   "execution_count": 83,
   "metadata": {},
   "outputs": [
    {
     "data": {
      "text/plain": [
       "(4, 3, 2)"
      ]
     },
     "execution_count": 83,
     "metadata": {},
     "output_type": "execute_result"
    }
   ],
   "source": [
    "swaped2 =np.swapaxes(my_2_3_4_array, 2, 0)\n",
    "swaped2.shape"
   ]
  },
  {
   "cell_type": "code",
   "execution_count": 82,
   "metadata": {},
   "outputs": [
    {
     "data": {
      "text/plain": [
       "array([[[ 0,  1,  2,  3],\n",
       "        [ 4,  5,  6,  7],\n",
       "        [ 8,  9, 10, 11]],\n",
       "\n",
       "       [[12, 13, 14, 15],\n",
       "        [16, 17, 18, 19],\n",
       "        [20, 21, 22, 23]]])"
      ]
     },
     "execution_count": 82,
     "metadata": {},
     "output_type": "execute_result"
    }
   ],
   "source": [
    "my_2_3_4_array"
   ]
  },
  {
   "cell_type": "code",
   "execution_count": 85,
   "metadata": {},
   "outputs": [
    {
     "data": {
      "text/plain": [
       "array([[[ 0,  4,  8],\n",
       "        [ 1,  5,  9],\n",
       "        [ 2,  6, 10],\n",
       "        [ 3,  7, 11]],\n",
       "\n",
       "       [[12, 16, 20],\n",
       "        [13, 17, 21],\n",
       "        [14, 18, 22],\n",
       "        [15, 19, 23]]])"
      ]
     },
     "execution_count": 85,
     "metadata": {},
     "output_type": "execute_result"
    }
   ],
   "source": [
    "swaped3 =np.swapaxes(my_2_3_4_array, 1, 2)\n",
    "swaped3"
   ]
  },
  {
   "cell_type": "markdown",
   "metadata": {},
   "source": [
    "### rollaxis\n",
    "from: http://docs.scipy.org/doc/numpy/reference/generated/numpy.rollaxis.html#numpy.rollaxis\n",
    "\n",
    "Roll the specified axis backwards, until it lies in a given position.\n",
    "\n",
    "For Numpy >= 1.10 a view of a is always returned. For earlier Numpy versions a view of a is returned only if the order of the axes is changed, otherwise the input array is returned."
   ]
  },
  {
   "cell_type": "code",
   "execution_count": 86,
   "metadata": {},
   "outputs": [
    {
     "data": {
      "text/plain": [
       "array([[[ 0,  1,  2,  3],\n",
       "        [ 4,  5,  6,  7],\n",
       "        [ 8,  9, 10, 11]],\n",
       "\n",
       "       [[12, 13, 14, 15],\n",
       "        [16, 17, 18, 19],\n",
       "        [20, 21, 22, 23]]])"
      ]
     },
     "execution_count": 86,
     "metadata": {},
     "output_type": "execute_result"
    }
   ],
   "source": [
    "my_2_3_4_array"
   ]
  },
  {
   "cell_type": "code",
   "execution_count": 87,
   "metadata": {},
   "outputs": [
    {
     "data": {
      "text/plain": [
       "(2, 3, 4)"
      ]
     },
     "execution_count": 87,
     "metadata": {},
     "output_type": "execute_result"
    }
   ],
   "source": [
    "my_2_3_4_array.shape"
   ]
  },
  {
   "cell_type": "code",
   "execution_count": 93,
   "metadata": {},
   "outputs": [
    {
     "data": {
      "text/plain": [
       "array([[[ 0,  1,  2,  3],\n",
       "        [12, 13, 14, 15]],\n",
       "\n",
       "       [[ 4,  5,  6,  7],\n",
       "        [16, 17, 18, 19]],\n",
       "\n",
       "       [[ 8,  9, 10, 11],\n",
       "        [20, 21, 22, 23]]])"
      ]
     },
     "execution_count": 93,
     "metadata": {},
     "output_type": "execute_result"
    }
   ],
   "source": [
    "rolled_axis02=np.rollaxis(my_2_3_4_array, 0, 2) # axis: position of axis do not change relatively\n",
    "rolled_axis02"
   ]
  },
  {
   "cell_type": "code",
   "execution_count": 94,
   "metadata": {},
   "outputs": [
    {
     "data": {
      "text/plain": [
       "(3, 2, 4)"
      ]
     },
     "execution_count": 94,
     "metadata": {},
     "output_type": "execute_result"
    }
   ],
   "source": [
    "rolled_axis02.shape"
   ]
  },
  {
   "cell_type": "markdown",
   "metadata": {},
   "source": [
    "##### Summary; from: http://stackoverflow.com/questions/15483156/generalizing-matrix-transpose-in-numpy\n",
    "\n",
    "- Use np.transpose to permute all the axes at once. (Thanks to @jorgeca for pointing this out.)\n",
    "- Use np.swapaxes to swap any two axes.\n",
    "- Use np.rollaxis to \"rotate\" the axes."
   ]
  },
  {
   "cell_type": "markdown",
   "metadata": {},
   "source": [
    "# Tiling Arrays"
   ]
  },
  {
   "cell_type": "markdown",
   "metadata": {},
   "source": [
    "### tile\n",
    "from: http://docs.scipy.org/doc/numpy/reference/generated/numpy.tile.html#numpy.tile\n",
    "\n",
    "Construct an array by repeating A the number of times given by reps.\n",
    "\n",
    "If reps has length d, the result will have dimension of max(d, A.ndim).\n",
    "\n",
    "If A.ndim < d, A is promoted to be d-dimensional by prepending new axes. So a shape (3,) array is promoted to (1, 3) for 2-D replication, or shape (1, 1, 3) for 3-D replication. If this is not the desired behavior, promote A to d-dimensions manually before calling this function.\n",
    "\n",
    "If A.ndim > d, reps is promoted to A.ndim by pre-pending 1’s to it. Thus for an A of shape (2, 3, 4, 5), a reps of (2, 2) is treated as (1, 1, 2, 2)."
   ]
  },
  {
   "cell_type": "code",
   "execution_count": 95,
   "metadata": {},
   "outputs": [
    {
     "data": {
      "text/plain": [
       "array([ 0,  1,  2,  3,  4,  5,  6,  7,  8,  9, 10, 11])"
      ]
     },
     "execution_count": 95,
     "metadata": {},
     "output_type": "execute_result"
    }
   ],
   "source": [
    "my_start_array = np.array(np.arange(12))\n",
    "my_start_array"
   ]
  },
  {
   "cell_type": "code",
   "execution_count": 96,
   "metadata": {},
   "outputs": [
    {
     "data": {
      "text/plain": [
       "array([ 0,  1,  2,  3,  4,  5,  6,  7,  8,  9, 10, 11,  0,  1,  2,  3,  4,\n",
       "        5,  6,  7,  8,  9, 10, 11,  0,  1,  2,  3,  4,  5,  6,  7,  8,  9,\n",
       "       10, 11])"
      ]
     },
     "execution_count": 96,
     "metadata": {},
     "output_type": "execute_result"
    }
   ],
   "source": [
    "np.tile(my_start_array, 3)"
   ]
  },
  {
   "cell_type": "code",
   "execution_count": 103,
   "metadata": {},
   "outputs": [
    {
     "data": {
      "text/plain": [
       "array([[ 0,  1,  2,  3,  4,  5,  6,  7,  8,  9, 10, 11],\n",
       "       [ 0,  1,  2,  3,  4,  5,  6,  7,  8,  9, 10, 11],\n",
       "       [ 0,  1,  2,  3,  4,  5,  6,  7,  8,  9, 10, 11]])"
      ]
     },
     "execution_count": 103,
     "metadata": {},
     "output_type": "execute_result"
    }
   ],
   "source": [
    "np.tile(my_start_array, 3).reshape((3,12))"
   ]
  },
  {
   "cell_type": "code",
   "execution_count": 111,
   "metadata": {},
   "outputs": [
    {
     "data": {
      "text/plain": [
       "array([[ 0,  1,  2,  3,  4,  5,  6,  7,  8,  9, 10, 11],\n",
       "       [ 0,  1,  2,  3,  4,  5,  6,  7,  8,  9, 10, 11],\n",
       "       [ 0,  1,  2,  3,  4,  5,  6,  7,  8,  9, 10, 11]])"
      ]
     },
     "execution_count": 111,
     "metadata": {},
     "output_type": "execute_result"
    }
   ],
   "source": [
    "np.tile(my_start_array, (3,1))"
   ]
  },
  {
   "cell_type": "code",
   "execution_count": 108,
   "metadata": {},
   "outputs": [],
   "source": [
    "my_second_array = np.array(np.arange(7))"
   ]
  },
  {
   "cell_type": "code",
   "execution_count": 109,
   "metadata": {},
   "outputs": [
    {
     "data": {
      "text/plain": [
       "array([[0, 1, 2, 3, 4, 5, 6],\n",
       "       [0, 1, 2, 3, 4, 5, 6],\n",
       "       [0, 1, 2, 3, 4, 5, 6]])"
      ]
     },
     "execution_count": 109,
     "metadata": {},
     "output_type": "execute_result"
    }
   ],
   "source": [
    "tile_1 = np.tile(my_second_array, (3, 1))\n",
    "tile_1"
   ]
  },
  {
   "cell_type": "code",
   "execution_count": 113,
   "metadata": {},
   "outputs": [
    {
     "data": {
      "text/plain": [
       "array([[0, 1, 2, 3, 4, 5, 6, 0, 1, 2, 3, 4, 5, 6],\n",
       "       [0, 1, 2, 3, 4, 5, 6, 0, 1, 2, 3, 4, 5, 6],\n",
       "       [0, 1, 2, 3, 4, 5, 6, 0, 1, 2, 3, 4, 5, 6],\n",
       "       [0, 1, 2, 3, 4, 5, 6, 0, 1, 2, 3, 4, 5, 6],\n",
       "       [0, 1, 2, 3, 4, 5, 6, 0, 1, 2, 3, 4, 5, 6],\n",
       "       [0, 1, 2, 3, 4, 5, 6, 0, 1, 2, 3, 4, 5, 6]])"
      ]
     },
     "execution_count": 113,
     "metadata": {},
     "output_type": "execute_result"
    }
   ],
   "source": [
    "tile_2 = np.tile(tile_1, (2,2))\n",
    "tile_2"
   ]
  },
  {
   "cell_type": "code",
   "execution_count": 1,
   "metadata": {},
   "outputs": [
    {
     "ename": "NameError",
     "evalue": "name 'np' is not defined",
     "output_type": "error",
     "traceback": [
      "\u001b[0;31m---------------------------------------------------------------------------\u001b[0m",
      "\u001b[0;31mNameError\u001b[0m                                 Traceback (most recent call last)",
      "\u001b[0;32m<ipython-input-1-757c8eaf1fce>\u001b[0m in \u001b[0;36m<module>\u001b[0;34m\u001b[0m\n\u001b[0;32m----> 1\u001b[0;31m \u001b[0mtile_3\u001b[0m \u001b[0;34m=\u001b[0m \u001b[0mnp\u001b[0m\u001b[0;34m.\u001b[0m\u001b[0mtile\u001b[0m\u001b[0;34m(\u001b[0m\u001b[0mtile_2\u001b[0m\u001b[0;34m,\u001b[0m \u001b[0;34m(\u001b[0m\u001b[0;36m3\u001b[0m\u001b[0;34m,\u001b[0m\u001b[0;36m1\u001b[0m\u001b[0;34m)\u001b[0m\u001b[0;34m)\u001b[0m\u001b[0;34m\u001b[0m\u001b[0;34m\u001b[0m\u001b[0m\n\u001b[0m\u001b[1;32m      2\u001b[0m \u001b[0mtile_3\u001b[0m\u001b[0;34m\u001b[0m\u001b[0;34m\u001b[0m\u001b[0m\n",
      "\u001b[0;31mNameError\u001b[0m: name 'np' is not defined"
     ]
    }
   ],
   "source": [
    "tile_3 = np.tile(tile_2, (3,1))\n",
    "tile_3"
   ]
  },
  {
   "cell_type": "code",
   "execution_count": 116,
   "metadata": {},
   "outputs": [
    {
     "data": {
      "text/plain": [
       "array([0, 1, 2, 3, 4, 5, 6])"
      ]
     },
     "execution_count": 116,
     "metadata": {},
     "output_type": "execute_result"
    }
   ],
   "source": [
    "my_second_array"
   ]
  },
  {
   "cell_type": "code",
   "execution_count": 4,
   "metadata": {},
   "outputs": [
    {
     "data": {
      "text/plain": [
       "array([0.90636658, 0.68951278, 0.99518471])"
      ]
     },
     "execution_count": 4,
     "metadata": {},
     "output_type": "execute_result"
    }
   ],
   "source": [
    "a=np.random.rand(3)\n",
    "a"
   ]
  },
  {
   "cell_type": "code",
   "execution_count": 5,
   "metadata": {},
   "outputs": [
    {
     "data": {
      "text/plain": [
       "array([0.36458473, 0.28129843, 0.42627189])"
      ]
     },
     "execution_count": 5,
     "metadata": {},
     "output_type": "execute_result"
    }
   ],
   "source": [
    "b=np.random.rand(3)\n",
    "b"
   ]
  },
  {
   "cell_type": "code",
   "execution_count": 7,
   "metadata": {},
   "outputs": [
    {
     "data": {
      "text/plain": [
       "0.9486255514229304"
      ]
     },
     "execution_count": 7,
     "metadata": {},
     "output_type": "execute_result"
    }
   ],
   "source": [
    "c=np.dot(a,b)\n",
    "c"
   ]
  },
  {
   "cell_type": "code",
   "execution_count": 8,
   "metadata": {},
   "outputs": [
    {
     "data": {
      "text/plain": [
       "0.9486255514229304"
      ]
     },
     "execution_count": 8,
     "metadata": {},
     "output_type": "execute_result"
    }
   ],
   "source": [
    "c=np.dot(b,a)\n",
    "c"
   ]
  },
  {
   "cell_type": "code",
   "execution_count": 12,
   "metadata": {},
   "outputs": [
    {
     "data": {
      "text/plain": [
       "array([0., 1., 0.])"
      ]
     },
     "execution_count": 12,
     "metadata": {},
     "output_type": "execute_result"
    }
   ],
   "source": [
    "d=np.zeros(3)\n",
    "d[1]=1\n",
    "d"
   ]
  },
  {
   "cell_type": "code",
   "execution_count": 14,
   "metadata": {},
   "outputs": [
    {
     "data": {
      "text/plain": [
       "array([0.        , 0.28129843, 0.        ])"
      ]
     },
     "execution_count": 14,
     "metadata": {},
     "output_type": "execute_result"
    }
   ],
   "source": [
    "e=d*b\n",
    "e"
   ]
  },
  {
   "cell_type": "code",
   "execution_count": null,
   "metadata": {},
   "outputs": [],
   "source": []
  },
  {
   "cell_type": "code",
   "execution_count": 6,
   "metadata": {},
   "outputs": [
    {
     "data": {
      "text/plain": [
       "array([[[0.82760727, 0.31287609, 0.33683456, 0.92134912],\n",
       "        [0.63282666, 0.54088384, 0.09832425, 0.4686742 ],\n",
       "        [0.87494798, 0.89509185, 0.09257287, 0.14098761]],\n",
       "\n",
       "       [[0.44842002, 0.18735172, 0.92935057, 0.31203443],\n",
       "        [0.62743343, 0.86208094, 0.91152136, 0.87468987],\n",
       "        [0.58898553, 0.99218461, 0.26469048, 0.88683202]],\n",
       "\n",
       "       [[0.75659901, 0.03610501, 0.23442377, 0.40294349],\n",
       "        [0.19287586, 0.81636566, 0.81706377, 0.41415169],\n",
       "        [0.27395872, 0.18604961, 0.58862513, 0.89040254]]])"
      ]
     },
     "execution_count": 6,
     "metadata": {},
     "output_type": "execute_result"
    }
   ],
   "source": [
    "import numpy as np\n",
    "a=np.random.rand(3,3,4)\n",
    "a"
   ]
  },
  {
   "cell_type": "code",
   "execution_count": 9,
   "metadata": {},
   "outputs": [
    {
     "data": {
      "text/plain": [
       "array([[0.82760727, 0.31287609, 0.33683456, 0.92134912, 0.63282666,\n",
       "        0.54088384, 0.09832425, 0.4686742 , 0.87494798, 0.89509185,\n",
       "        0.09257287, 0.14098761],\n",
       "       [0.44842002, 0.18735172, 0.92935057, 0.31203443, 0.62743343,\n",
       "        0.86208094, 0.91152136, 0.87468987, 0.58898553, 0.99218461,\n",
       "        0.26469048, 0.88683202],\n",
       "       [0.75659901, 0.03610501, 0.23442377, 0.40294349, 0.19287586,\n",
       "        0.81636566, 0.81706377, 0.41415169, 0.27395872, 0.18604961,\n",
       "        0.58862513, 0.89040254]])"
      ]
     },
     "execution_count": 9,
     "metadata": {},
     "output_type": "execute_result"
    }
   ],
   "source": [
    "x=a.reshape(a.shape[0], -1)\n",
    "x\n"
   ]
  },
  {
   "cell_type": "code",
   "execution_count": 10,
   "metadata": {},
   "outputs": [
    {
     "data": {
      "text/plain": [
       "(3, 12)"
      ]
     },
     "execution_count": 10,
     "metadata": {},
     "output_type": "execute_result"
    }
   ],
   "source": [
    "x.shape"
   ]
  },
  {
   "cell_type": "code",
   "execution_count": null,
   "metadata": {},
   "outputs": [],
   "source": []
  },
  {
   "cell_type": "code",
   "execution_count": null,
   "metadata": {},
   "outputs": [],
   "source": []
  },
  {
   "cell_type": "code",
   "execution_count": null,
   "metadata": {},
   "outputs": [],
   "source": []
  },
  {
   "cell_type": "markdown",
   "metadata": {},
   "source": [
    "## Try out"
   ]
  },
  {
   "cell_type": "code",
   "execution_count": 2,
   "metadata": {},
   "outputs": [],
   "source": [
    "import numpy as np"
   ]
  },
  {
   "cell_type": "code",
   "execution_count": 3,
   "metadata": {},
   "outputs": [
    {
     "name": "stdout",
     "output_type": "stream",
     "text": [
      "(2, 2)\n",
      "(1, 2)\n"
     ]
    },
    {
     "data": {
      "text/plain": [
       "array([[ 2, -2]])"
      ]
     },
     "execution_count": 3,
     "metadata": {},
     "output_type": "execute_result"
    }
   ],
   "source": [
    "R= np.array([[2,0],[0,-2]])\n",
    "x= np.array([[1,1]])\n",
    "print(R.shape)\n",
    "print(x.shape)\n",
    "dot= np.dot(x, R)\n",
    "dot"
   ]
  },
  {
   "cell_type": "code",
   "execution_count": 4,
   "metadata": {},
   "outputs": [
    {
     "name": "stdout",
     "output_type": "stream",
     "text": [
      "2\n"
     ]
    }
   ],
   "source": [
    "print(R.shape[0])"
   ]
  },
  {
   "cell_type": "code",
   "execution_count": null,
   "metadata": {},
   "outputs": [],
   "source": [
    "import numpy as np\n",
    "from numpy.linalg import eig\n",
    "\n",
    "A=np.array([[12,5][5,6]])\n",
    "\n"
   ]
  },
  {
   "cell_type": "code",
   "execution_count": null,
   "metadata": {},
   "outputs": [],
   "source": []
  },
  {
   "cell_type": "code",
   "execution_count": null,
   "metadata": {},
   "outputs": [],
   "source": []
  },
  {
   "cell_type": "code",
   "execution_count": null,
   "metadata": {},
   "outputs": [],
   "source": []
  },
  {
   "cell_type": "markdown",
   "metadata": {},
   "source": []
  }
 ],
 "metadata": {
  "kernelspec": {
   "display_name": "Python 3",
   "language": "python",
   "name": "python3"
  },
  "language_info": {
   "codemirror_mode": {
    "name": "ipython",
    "version": 3
   },
   "file_extension": ".py",
   "mimetype": "text/x-python",
   "name": "python",
   "nbconvert_exporter": "python",
   "pygments_lexer": "ipython3",
   "version": "3.7.6"
  }
 },
 "nbformat": 4,
 "nbformat_minor": 4
}
